{
  "nbformat": 4,
  "nbformat_minor": 0,
  "metadata": {
    "colab": {
      "name": "SigmoidNeuron_April5_2020.ipynb",
      "provenance": [],
      "collapsed_sections": [],
      "authorship_tag": "ABX9TyMYvzqHNnxDoyD2hjh1c+0U",
      "include_colab_link": true
    },
    "kernelspec": {
      "name": "python3",
      "display_name": "Python 3"
    },
    "widgets": {
      "application/vnd.jupyter.widget-state+json": {
        "5c20b0a84cc74350a426450c18d2008c": {
          "model_module": "@jupyter-widgets/controls",
          "model_name": "HBoxModel",
          "state": {
            "_view_name": "HBoxView",
            "_dom_classes": [],
            "_model_name": "HBoxModel",
            "_view_module": "@jupyter-widgets/controls",
            "_model_module_version": "1.5.0",
            "_view_count": null,
            "_view_module_version": "1.5.0",
            "box_style": "",
            "layout": "IPY_MODEL_54dc64e1dcf94bc796c8c0fc61bdcf45",
            "_model_module": "@jupyter-widgets/controls",
            "children": [
              "IPY_MODEL_05ec0bf4a47b40bbbff9c2f4274732d3",
              "IPY_MODEL_5ee2317acb81473b89e1c372c77547ae"
            ]
          }
        },
        "54dc64e1dcf94bc796c8c0fc61bdcf45": {
          "model_module": "@jupyter-widgets/base",
          "model_name": "LayoutModel",
          "state": {
            "_view_name": "LayoutView",
            "grid_template_rows": null,
            "right": null,
            "justify_content": null,
            "_view_module": "@jupyter-widgets/base",
            "overflow": null,
            "_model_module_version": "1.2.0",
            "_view_count": null,
            "flex_flow": null,
            "width": null,
            "min_width": null,
            "border": null,
            "align_items": null,
            "bottom": null,
            "_model_module": "@jupyter-widgets/base",
            "top": null,
            "grid_column": null,
            "overflow_y": null,
            "overflow_x": null,
            "grid_auto_flow": null,
            "grid_area": null,
            "grid_template_columns": null,
            "flex": null,
            "_model_name": "LayoutModel",
            "justify_items": null,
            "grid_row": null,
            "max_height": null,
            "align_content": null,
            "visibility": null,
            "align_self": null,
            "height": null,
            "min_height": null,
            "padding": null,
            "grid_auto_rows": null,
            "grid_gap": null,
            "max_width": null,
            "order": null,
            "_view_module_version": "1.2.0",
            "grid_template_areas": null,
            "object_position": null,
            "object_fit": null,
            "grid_auto_columns": null,
            "margin": null,
            "display": null,
            "left": null
          }
        },
        "05ec0bf4a47b40bbbff9c2f4274732d3": {
          "model_module": "@jupyter-widgets/controls",
          "model_name": "IntProgressModel",
          "state": {
            "_view_name": "ProgressView",
            "style": "IPY_MODEL_4c5e4432a0d54ea2969f7576f14b8a0d",
            "_dom_classes": [],
            "description": "100%",
            "_model_name": "IntProgressModel",
            "bar_style": "success",
            "max": 5500,
            "_view_module": "@jupyter-widgets/controls",
            "_model_module_version": "1.5.0",
            "value": 5500,
            "_view_count": null,
            "_view_module_version": "1.5.0",
            "orientation": "horizontal",
            "min": 0,
            "description_tooltip": null,
            "_model_module": "@jupyter-widgets/controls",
            "layout": "IPY_MODEL_92a658e8be754b7fb1db6ba7252f3f50"
          }
        },
        "5ee2317acb81473b89e1c372c77547ae": {
          "model_module": "@jupyter-widgets/controls",
          "model_name": "HTMLModel",
          "state": {
            "_view_name": "HTMLView",
            "style": "IPY_MODEL_e23581243bae407fbb39bbf0df42b22d",
            "_dom_classes": [],
            "description": "",
            "_model_name": "HTMLModel",
            "placeholder": "​",
            "_view_module": "@jupyter-widgets/controls",
            "_model_module_version": "1.5.0",
            "value": " 5500/5500 [01:02&lt;00:00, 87.35epoch/s]",
            "_view_count": null,
            "_view_module_version": "1.5.0",
            "description_tooltip": null,
            "_model_module": "@jupyter-widgets/controls",
            "layout": "IPY_MODEL_d93280a1b0c24487a87dfb86208f962b"
          }
        },
        "4c5e4432a0d54ea2969f7576f14b8a0d": {
          "model_module": "@jupyter-widgets/controls",
          "model_name": "ProgressStyleModel",
          "state": {
            "_view_name": "StyleView",
            "_model_name": "ProgressStyleModel",
            "description_width": "initial",
            "_view_module": "@jupyter-widgets/base",
            "_model_module_version": "1.5.0",
            "_view_count": null,
            "_view_module_version": "1.2.0",
            "bar_color": null,
            "_model_module": "@jupyter-widgets/controls"
          }
        },
        "92a658e8be754b7fb1db6ba7252f3f50": {
          "model_module": "@jupyter-widgets/base",
          "model_name": "LayoutModel",
          "state": {
            "_view_name": "LayoutView",
            "grid_template_rows": null,
            "right": null,
            "justify_content": null,
            "_view_module": "@jupyter-widgets/base",
            "overflow": null,
            "_model_module_version": "1.2.0",
            "_view_count": null,
            "flex_flow": null,
            "width": null,
            "min_width": null,
            "border": null,
            "align_items": null,
            "bottom": null,
            "_model_module": "@jupyter-widgets/base",
            "top": null,
            "grid_column": null,
            "overflow_y": null,
            "overflow_x": null,
            "grid_auto_flow": null,
            "grid_area": null,
            "grid_template_columns": null,
            "flex": null,
            "_model_name": "LayoutModel",
            "justify_items": null,
            "grid_row": null,
            "max_height": null,
            "align_content": null,
            "visibility": null,
            "align_self": null,
            "height": null,
            "min_height": null,
            "padding": null,
            "grid_auto_rows": null,
            "grid_gap": null,
            "max_width": null,
            "order": null,
            "_view_module_version": "1.2.0",
            "grid_template_areas": null,
            "object_position": null,
            "object_fit": null,
            "grid_auto_columns": null,
            "margin": null,
            "display": null,
            "left": null
          }
        },
        "e23581243bae407fbb39bbf0df42b22d": {
          "model_module": "@jupyter-widgets/controls",
          "model_name": "DescriptionStyleModel",
          "state": {
            "_view_name": "StyleView",
            "_model_name": "DescriptionStyleModel",
            "description_width": "",
            "_view_module": "@jupyter-widgets/base",
            "_model_module_version": "1.5.0",
            "_view_count": null,
            "_view_module_version": "1.2.0",
            "_model_module": "@jupyter-widgets/controls"
          }
        },
        "d93280a1b0c24487a87dfb86208f962b": {
          "model_module": "@jupyter-widgets/base",
          "model_name": "LayoutModel",
          "state": {
            "_view_name": "LayoutView",
            "grid_template_rows": null,
            "right": null,
            "justify_content": null,
            "_view_module": "@jupyter-widgets/base",
            "overflow": null,
            "_model_module_version": "1.2.0",
            "_view_count": null,
            "flex_flow": null,
            "width": null,
            "min_width": null,
            "border": null,
            "align_items": null,
            "bottom": null,
            "_model_module": "@jupyter-widgets/base",
            "top": null,
            "grid_column": null,
            "overflow_y": null,
            "overflow_x": null,
            "grid_auto_flow": null,
            "grid_area": null,
            "grid_template_columns": null,
            "flex": null,
            "_model_name": "LayoutModel",
            "justify_items": null,
            "grid_row": null,
            "max_height": null,
            "align_content": null,
            "visibility": null,
            "align_self": null,
            "height": null,
            "min_height": null,
            "padding": null,
            "grid_auto_rows": null,
            "grid_gap": null,
            "max_width": null,
            "order": null,
            "_view_module_version": "1.2.0",
            "grid_template_areas": null,
            "object_position": null,
            "object_fit": null,
            "grid_auto_columns": null,
            "margin": null,
            "display": null,
            "left": null
          }
        }
      }
    }
  },
  "cells": [
    {
      "cell_type": "markdown",
      "metadata": {
        "id": "view-in-github",
        "colab_type": "text"
      },
      "source": [
        "<a href=\"https://colab.research.google.com/github/srinivasanibmbangalore/Deep-Learning2/blob/Version-1/SigmoidNeuron_April5_2020.ipynb\" target=\"_parent\"><img src=\"https://colab.research.google.com/assets/colab-badge.svg\" alt=\"Open In Colab\"/></a>"
      ]
    },
    {
      "cell_type": "markdown",
      "metadata": {
        "id": "yj6FeeekHIFc",
        "colab_type": "text"
      },
      "source": [
        "**Data** : Mobile Data Set Shared by IIT Chennai Padhai - Mobile Dataset\n",
        "Task :\n",
        "Regression (Logistic Regression) - With thresholds, the probabilities can be converted to classification model as well (0 or 1)\n",
        "\n",
        "Model :\n",
        "Sigmoid Function It is actually a sigmoid logistic function.  𝑆𝑤,𝑏(𝑥) = 11+𝑒−(𝑤𝑥+𝑏) \n",
        "\n",
        "Advantages: 1.Not a linear Function : So linear separability issue kind of is eliminated 2.A smooth function : 3.Differentiable 4.The parameters to learn are w, and b. 5.As w becomes more negative, slope increases. 6.As b decreases, boundary of the curve shifts to right.\n",
        "\n",
        "Loss Function:\n",
        "Mean Square Error\n",
        "\n",
        "Learning Algorithm:\n",
        "Gradient Descent\n",
        "\n",
        "Accuracy Evaluation:\n",
        "Root Mean Square\n",
        "\n",
        "Intermediate Visualization :\n",
        "3D Projection Plots in Matplot with cmaps as virdis\n",
        "######## Sometimes the default viewing angle is not optimal, in which case we can use the view_init method to set the elevation and azimuthal angles. In the following example, we'll use an elevation of 60 degrees (that is, 60 degrees above the x-y plane) and an azimuth of 35 degrees (that is, rotated 35 degrees counter-clockwise about the z-axis):\n"
      ]
    },
    {
      "cell_type": "code",
      "metadata": {
        "id": "Gc-s_efSG9S4",
        "colab_type": "code",
        "colab": {}
      },
      "source": [
        "import numpy as np\n",
        "import sklearn.datasets as ds #Very popular dataset\n",
        "import pandas as pd\n",
        "import matplotlib.pyplot as plt\n",
        "from   mpl_toolkits import mplot3d # for plotting 3d plots\n",
        "import random as rn\n",
        "from sklearn.metrics import accuracy_score\n",
        "from sklearn.metrics import mean_squared_error\n",
        "from sklearn.model_selection import train_test_split\n",
        "import matplotlib.colors\n",
        "from sklearn.preprocessing import StandardScaler, MinMaxScaler\n",
        "from tqdm import tqdm_notebook"
      ],
      "execution_count": 0,
      "outputs": []
    },
    {
      "cell_type": "code",
      "metadata": {
        "id": "lSh9TV_0HsVU",
        "colab_type": "code",
        "colab": {}
      },
      "source": [
        "class SigmoidNeuron:\n",
        "\n",
        "    def __init__(self):\n",
        "        self.w=None\n",
        "        self.b=None\n",
        "    \n",
        "    def perceptron(self,x):\n",
        "        return np.dot(x,self.w.T)+self.b\n",
        "    \n",
        "    def sigmoid(self,x):\n",
        "        return 1.0/(1.0+ np.exp(-x))\n",
        "    \n",
        "    def predict(self,X):\n",
        "      Y_pred = []\n",
        "      for x in X:\n",
        "        y_pred=self.sigmoid(self.perceptron(x))\n",
        "        Y_pred.append(y_pred)\n",
        "      return np.array(Y_pred)\n",
        "\n",
        "    \n",
        "    def grad_w(self,x,y):\n",
        "        y_pred=self.sigmoid(self.perceptron(x))\n",
        "        grd_w= (y_pred-y)*y_pred*(1-y_pred)*x\n",
        "        return grd_w\n",
        "    \n",
        "    def grad_b(self,x,y):\n",
        "        y_pred=self.sigmoid(self.perceptron(x))\n",
        "        grd_b= (y_pred-y)*y_pred*(1-y_pred)\n",
        "        return grd_b\n",
        "    \n",
        "    def fit(self,X,Y,epochs=1,lr=1,intialize=True,display_loss=False):\n",
        "\n",
        "        if (intialize):\n",
        "            self.w = np.random.randn(1,X.shape[1]) ## W is initialized. It contains the same row as number of columns in X\n",
        "            self.b=0\n",
        "        if (display_loss):\n",
        "          loss=[] #initialize a loss dictionary\n",
        "        for i in tqdm_notebook(range(epochs), total=epochs,unit=\"epoch\"):\n",
        "            dw=0\n",
        "            db=0\n",
        "            for x, y in zip(X,Y):\n",
        "                dw = dw+self.grad_w(x,y)\n",
        "                db = db+self.grad_b(x,y)\n",
        "            self.w=self.w-lr*dw\n",
        "            self.b=self.b-lr*db\n",
        "            Y_pred=self.sigmoid(self.perceptron(X))\n",
        "            if (display_loss):\n",
        "                loss.append(mean_squared_error(Y_pred,Y))\n",
        "                #print(loss[i])\n",
        "        print(\"Epochs is \",i)\n",
        "        if (display_loss):\n",
        "            plt.plot(loss)\n",
        "            plt.xlabel('Epoch')\n",
        "            plt.ylabel('Mean Squared Error loss')\n",
        "            plt.show()"
      ],
      "execution_count": 0,
      "outputs": []
    },
    {
      "cell_type": "markdown",
      "metadata": {
        "id": "zWgQbpI2KTNA",
        "colab_type": "text"
      },
      "source": [
        "#### Get the data and store in google drive\n",
        "\n",
        "The dummy data on like/dislike of phone is provided by PadhiAI( IIT Chennai)\n",
        "The file is stored in Srini's mobile drive. The shareable link of the same is \n",
        "https://drive.google.com/open?id=1OqjyyMZ5kWcOnq1lJkPHmfiJ5CbqKNwl\n",
        "\n",
        "Below is a snippet of code provided by Google Colab to read data from a Google drive\n",
        "\n",
        "\n"
      ]
    },
    {
      "cell_type": "code",
      "metadata": {
        "id": "CnXFHMcmKRvy",
        "colab_type": "code",
        "colab": {}
      },
      "source": [
        "from pydrive.auth import GoogleAuth\n",
        "from pydrive.drive import GoogleDrive\n",
        "from google.colab import auth\n",
        "from oauth2client.client import GoogleCredentials\n",
        "# Authenticate and create the PyDrive client.\n",
        "auth.authenticate_user()\n",
        "gauth = GoogleAuth()\n",
        "gauth.credentials = GoogleCredentials.get_application_default()\n",
        "drive = GoogleDrive(gauth)\n",
        "\n"
      ],
      "execution_count": 0,
      "outputs": []
    },
    {
      "cell_type": "code",
      "metadata": {
        "id": "9eJRUekypPDn",
        "colab_type": "code",
        "colab": {}
      },
      "source": [
        "shareable_link=\"https://drive.google.com/open?id=1OqjyyMZ5kWcOnq1lJkPHmfiJ5CbqKNwl\"\n",
        "myfile = drive.CreateFile({'id': '1OqjyyMZ5kWcOnq1lJkPHmfiJ5CbqKNwl'})\n",
        "myfile.GetContentFile('file.csv')"
      ],
      "execution_count": 0,
      "outputs": []
    },
    {
      "cell_type": "code",
      "metadata": {
        "id": "9Faq5xSnqkR7",
        "colab_type": "code",
        "outputId": "c7e6cea2-b460-4574-e4c2-e2225f46ca58",
        "colab": {
          "base_uri": "https://localhost:8080/",
          "height": 321
        }
      },
      "source": [
        "data=pd.read_csv(\"file.csv\")\n",
        "data.head()\n"
      ],
      "execution_count": 25,
      "outputs": [
        {
          "output_type": "execute_result",
          "data": {
            "text/html": [
              "<div>\n",
              "<style scoped>\n",
              "    .dataframe tbody tr th:only-of-type {\n",
              "        vertical-align: middle;\n",
              "    }\n",
              "\n",
              "    .dataframe tbody tr th {\n",
              "        vertical-align: top;\n",
              "    }\n",
              "\n",
              "    .dataframe thead th {\n",
              "        text-align: right;\n",
              "    }\n",
              "</style>\n",
              "<table border=\"1\" class=\"dataframe\">\n",
              "  <thead>\n",
              "    <tr style=\"text-align: right;\">\n",
              "      <th></th>\n",
              "      <th>PhoneId</th>\n",
              "      <th>Pixel Density</th>\n",
              "      <th>Screen Size</th>\n",
              "      <th>Weight</th>\n",
              "      <th>RAM</th>\n",
              "      <th>Processor_frequency</th>\n",
              "      <th>Screen to Body Ratio (calculated)</th>\n",
              "      <th>Height</th>\n",
              "      <th>Internal Memory</th>\n",
              "      <th>Capacity</th>\n",
              "      <th>Resolution</th>\n",
              "      <th>SIM 2_2G</th>\n",
              "      <th>SIM 2_3G</th>\n",
              "      <th>SIM 2_4G</th>\n",
              "      <th>SIM 2_Other</th>\n",
              "      <th>Num_cores_312</th>\n",
              "      <th>Num_cores_Deca</th>\n",
              "      <th>Num_cores_Dual</th>\n",
              "      <th>Num_cores_Hexa</th>\n",
              "      <th>Num_cores_Octa</th>\n",
              "      <th>Num_cores_Other</th>\n",
              "      <th>Num_cores_Quad</th>\n",
              "      <th>Num_cores_Tru-Octa</th>\n",
              "      <th>Brand_10.or</th>\n",
              "      <th>Brand_Apple</th>\n",
              "      <th>Brand_Asus</th>\n",
              "      <th>Brand_Billion</th>\n",
              "      <th>Brand_Blackberry</th>\n",
              "      <th>Brand_Comio</th>\n",
              "      <th>Brand_Coolpad</th>\n",
              "      <th>Brand_Do</th>\n",
              "      <th>Brand_Gionee</th>\n",
              "      <th>Brand_Google</th>\n",
              "      <th>Brand_HTC</th>\n",
              "      <th>Brand_Honor</th>\n",
              "      <th>Brand_Huawei</th>\n",
              "      <th>Brand_InFocus</th>\n",
              "      <th>Brand_Infinix</th>\n",
              "      <th>Brand_Intex</th>\n",
              "      <th>Brand_Itel</th>\n",
              "      <th>...</th>\n",
              "      <th>Brand_Meizu</th>\n",
              "      <th>Brand_Micromax</th>\n",
              "      <th>Brand_Mobiistar</th>\n",
              "      <th>Brand_Moto</th>\n",
              "      <th>Brand_Motorola</th>\n",
              "      <th>Brand_Nokia</th>\n",
              "      <th>Brand_Nubia</th>\n",
              "      <th>Brand_OPPO</th>\n",
              "      <th>Brand_OnePlus</th>\n",
              "      <th>Brand_Oppo</th>\n",
              "      <th>Brand_Panasonic</th>\n",
              "      <th>Brand_Razer</th>\n",
              "      <th>Brand_Realme</th>\n",
              "      <th>Brand_Reliance</th>\n",
              "      <th>Brand_Samsung</th>\n",
              "      <th>Brand_Sony</th>\n",
              "      <th>Brand_Spice</th>\n",
              "      <th>Brand_Tecno</th>\n",
              "      <th>Brand_Ulefone</th>\n",
              "      <th>Brand_VOTO</th>\n",
              "      <th>Brand_Vivo</th>\n",
              "      <th>Brand_Xiaomi</th>\n",
              "      <th>Brand_Xiaomi Poco</th>\n",
              "      <th>Brand_Yu</th>\n",
              "      <th>Brand_iVooMi</th>\n",
              "      <th>os_name_Android</th>\n",
              "      <th>os_name_Blackberry</th>\n",
              "      <th>os_name_KAI</th>\n",
              "      <th>os_name_Nokia</th>\n",
              "      <th>os_name_Other</th>\n",
              "      <th>os_name_Tizen</th>\n",
              "      <th>os_name_iOS</th>\n",
              "      <th>SIM Slot(s)_Dual SIM, GSM+CDMA</th>\n",
              "      <th>SIM Slot(s)_Dual SIM, GSM+GSM</th>\n",
              "      <th>SIM Slot(s)_Dual SIM, GSM+GSM, Dual VoLTE</th>\n",
              "      <th>SIM Slot(s)_Single SIM, GSM</th>\n",
              "      <th>Sim1_2G</th>\n",
              "      <th>Sim1_3G</th>\n",
              "      <th>Sim1_4G</th>\n",
              "      <th>Rating</th>\n",
              "    </tr>\n",
              "  </thead>\n",
              "  <tbody>\n",
              "    <tr>\n",
              "      <th>0</th>\n",
              "      <td>0</td>\n",
              "      <td>403</td>\n",
              "      <td>6.26</td>\n",
              "      <td>182</td>\n",
              "      <td>4</td>\n",
              "      <td>1.8</td>\n",
              "      <td>80.68</td>\n",
              "      <td>157.9</td>\n",
              "      <td>64</td>\n",
              "      <td>4000</td>\n",
              "      <td>20</td>\n",
              "      <td>0</td>\n",
              "      <td>0</td>\n",
              "      <td>1</td>\n",
              "      <td>0</td>\n",
              "      <td>0</td>\n",
              "      <td>0</td>\n",
              "      <td>0</td>\n",
              "      <td>0</td>\n",
              "      <td>1</td>\n",
              "      <td>0</td>\n",
              "      <td>0</td>\n",
              "      <td>0</td>\n",
              "      <td>0</td>\n",
              "      <td>0</td>\n",
              "      <td>0</td>\n",
              "      <td>0</td>\n",
              "      <td>0</td>\n",
              "      <td>0</td>\n",
              "      <td>0</td>\n",
              "      <td>0</td>\n",
              "      <td>0</td>\n",
              "      <td>0</td>\n",
              "      <td>0</td>\n",
              "      <td>0</td>\n",
              "      <td>0</td>\n",
              "      <td>0</td>\n",
              "      <td>0</td>\n",
              "      <td>0</td>\n",
              "      <td>0</td>\n",
              "      <td>...</td>\n",
              "      <td>0</td>\n",
              "      <td>0</td>\n",
              "      <td>0</td>\n",
              "      <td>0</td>\n",
              "      <td>0</td>\n",
              "      <td>0</td>\n",
              "      <td>0</td>\n",
              "      <td>0</td>\n",
              "      <td>0</td>\n",
              "      <td>0</td>\n",
              "      <td>0</td>\n",
              "      <td>0</td>\n",
              "      <td>0</td>\n",
              "      <td>0</td>\n",
              "      <td>0</td>\n",
              "      <td>0</td>\n",
              "      <td>0</td>\n",
              "      <td>0</td>\n",
              "      <td>0</td>\n",
              "      <td>0</td>\n",
              "      <td>0</td>\n",
              "      <td>1</td>\n",
              "      <td>0</td>\n",
              "      <td>0</td>\n",
              "      <td>0</td>\n",
              "      <td>1</td>\n",
              "      <td>0</td>\n",
              "      <td>0</td>\n",
              "      <td>0</td>\n",
              "      <td>0</td>\n",
              "      <td>0</td>\n",
              "      <td>0</td>\n",
              "      <td>0</td>\n",
              "      <td>0</td>\n",
              "      <td>1</td>\n",
              "      <td>0</td>\n",
              "      <td>0</td>\n",
              "      <td>0</td>\n",
              "      <td>1</td>\n",
              "      <td>4.5</td>\n",
              "    </tr>\n",
              "    <tr>\n",
              "      <th>1</th>\n",
              "      <td>1</td>\n",
              "      <td>271</td>\n",
              "      <td>6.20</td>\n",
              "      <td>168</td>\n",
              "      <td>3</td>\n",
              "      <td>1.8</td>\n",
              "      <td>80.85</td>\n",
              "      <td>156.2</td>\n",
              "      <td>32</td>\n",
              "      <td>4230</td>\n",
              "      <td>8</td>\n",
              "      <td>0</td>\n",
              "      <td>0</td>\n",
              "      <td>1</td>\n",
              "      <td>0</td>\n",
              "      <td>0</td>\n",
              "      <td>0</td>\n",
              "      <td>0</td>\n",
              "      <td>0</td>\n",
              "      <td>1</td>\n",
              "      <td>0</td>\n",
              "      <td>0</td>\n",
              "      <td>0</td>\n",
              "      <td>0</td>\n",
              "      <td>0</td>\n",
              "      <td>0</td>\n",
              "      <td>0</td>\n",
              "      <td>0</td>\n",
              "      <td>0</td>\n",
              "      <td>0</td>\n",
              "      <td>0</td>\n",
              "      <td>0</td>\n",
              "      <td>0</td>\n",
              "      <td>0</td>\n",
              "      <td>0</td>\n",
              "      <td>0</td>\n",
              "      <td>0</td>\n",
              "      <td>0</td>\n",
              "      <td>0</td>\n",
              "      <td>0</td>\n",
              "      <td>...</td>\n",
              "      <td>0</td>\n",
              "      <td>0</td>\n",
              "      <td>0</td>\n",
              "      <td>0</td>\n",
              "      <td>0</td>\n",
              "      <td>0</td>\n",
              "      <td>0</td>\n",
              "      <td>0</td>\n",
              "      <td>0</td>\n",
              "      <td>0</td>\n",
              "      <td>0</td>\n",
              "      <td>0</td>\n",
              "      <td>1</td>\n",
              "      <td>0</td>\n",
              "      <td>0</td>\n",
              "      <td>0</td>\n",
              "      <td>0</td>\n",
              "      <td>0</td>\n",
              "      <td>0</td>\n",
              "      <td>0</td>\n",
              "      <td>0</td>\n",
              "      <td>0</td>\n",
              "      <td>0</td>\n",
              "      <td>0</td>\n",
              "      <td>0</td>\n",
              "      <td>1</td>\n",
              "      <td>0</td>\n",
              "      <td>0</td>\n",
              "      <td>0</td>\n",
              "      <td>0</td>\n",
              "      <td>0</td>\n",
              "      <td>0</td>\n",
              "      <td>0</td>\n",
              "      <td>0</td>\n",
              "      <td>1</td>\n",
              "      <td>0</td>\n",
              "      <td>0</td>\n",
              "      <td>0</td>\n",
              "      <td>1</td>\n",
              "      <td>4.5</td>\n",
              "    </tr>\n",
              "    <tr>\n",
              "      <th>2</th>\n",
              "      <td>2</td>\n",
              "      <td>409</td>\n",
              "      <td>6.30</td>\n",
              "      <td>168</td>\n",
              "      <td>3</td>\n",
              "      <td>2.1</td>\n",
              "      <td>83.68</td>\n",
              "      <td>157.0</td>\n",
              "      <td>32</td>\n",
              "      <td>3500</td>\n",
              "      <td>25</td>\n",
              "      <td>0</td>\n",
              "      <td>0</td>\n",
              "      <td>1</td>\n",
              "      <td>0</td>\n",
              "      <td>0</td>\n",
              "      <td>0</td>\n",
              "      <td>0</td>\n",
              "      <td>0</td>\n",
              "      <td>1</td>\n",
              "      <td>0</td>\n",
              "      <td>0</td>\n",
              "      <td>0</td>\n",
              "      <td>0</td>\n",
              "      <td>0</td>\n",
              "      <td>0</td>\n",
              "      <td>0</td>\n",
              "      <td>0</td>\n",
              "      <td>0</td>\n",
              "      <td>0</td>\n",
              "      <td>0</td>\n",
              "      <td>0</td>\n",
              "      <td>0</td>\n",
              "      <td>0</td>\n",
              "      <td>0</td>\n",
              "      <td>0</td>\n",
              "      <td>0</td>\n",
              "      <td>0</td>\n",
              "      <td>0</td>\n",
              "      <td>0</td>\n",
              "      <td>...</td>\n",
              "      <td>0</td>\n",
              "      <td>0</td>\n",
              "      <td>0</td>\n",
              "      <td>0</td>\n",
              "      <td>0</td>\n",
              "      <td>0</td>\n",
              "      <td>0</td>\n",
              "      <td>0</td>\n",
              "      <td>0</td>\n",
              "      <td>0</td>\n",
              "      <td>0</td>\n",
              "      <td>0</td>\n",
              "      <td>1</td>\n",
              "      <td>0</td>\n",
              "      <td>0</td>\n",
              "      <td>0</td>\n",
              "      <td>0</td>\n",
              "      <td>0</td>\n",
              "      <td>0</td>\n",
              "      <td>0</td>\n",
              "      <td>0</td>\n",
              "      <td>0</td>\n",
              "      <td>0</td>\n",
              "      <td>0</td>\n",
              "      <td>0</td>\n",
              "      <td>1</td>\n",
              "      <td>0</td>\n",
              "      <td>0</td>\n",
              "      <td>0</td>\n",
              "      <td>0</td>\n",
              "      <td>0</td>\n",
              "      <td>0</td>\n",
              "      <td>0</td>\n",
              "      <td>0</td>\n",
              "      <td>1</td>\n",
              "      <td>0</td>\n",
              "      <td>0</td>\n",
              "      <td>0</td>\n",
              "      <td>1</td>\n",
              "      <td>4.4</td>\n",
              "    </tr>\n",
              "    <tr>\n",
              "      <th>3</th>\n",
              "      <td>4</td>\n",
              "      <td>411</td>\n",
              "      <td>6.00</td>\n",
              "      <td>169</td>\n",
              "      <td>4</td>\n",
              "      <td>2.2</td>\n",
              "      <td>74.78</td>\n",
              "      <td>159.8</td>\n",
              "      <td>64</td>\n",
              "      <td>3300</td>\n",
              "      <td>24</td>\n",
              "      <td>0</td>\n",
              "      <td>0</td>\n",
              "      <td>1</td>\n",
              "      <td>0</td>\n",
              "      <td>0</td>\n",
              "      <td>0</td>\n",
              "      <td>0</td>\n",
              "      <td>0</td>\n",
              "      <td>1</td>\n",
              "      <td>0</td>\n",
              "      <td>0</td>\n",
              "      <td>0</td>\n",
              "      <td>0</td>\n",
              "      <td>0</td>\n",
              "      <td>0</td>\n",
              "      <td>0</td>\n",
              "      <td>0</td>\n",
              "      <td>0</td>\n",
              "      <td>0</td>\n",
              "      <td>0</td>\n",
              "      <td>0</td>\n",
              "      <td>0</td>\n",
              "      <td>0</td>\n",
              "      <td>0</td>\n",
              "      <td>0</td>\n",
              "      <td>0</td>\n",
              "      <td>0</td>\n",
              "      <td>0</td>\n",
              "      <td>0</td>\n",
              "      <td>...</td>\n",
              "      <td>0</td>\n",
              "      <td>0</td>\n",
              "      <td>0</td>\n",
              "      <td>0</td>\n",
              "      <td>0</td>\n",
              "      <td>0</td>\n",
              "      <td>0</td>\n",
              "      <td>0</td>\n",
              "      <td>0</td>\n",
              "      <td>0</td>\n",
              "      <td>0</td>\n",
              "      <td>0</td>\n",
              "      <td>0</td>\n",
              "      <td>0</td>\n",
              "      <td>1</td>\n",
              "      <td>0</td>\n",
              "      <td>0</td>\n",
              "      <td>0</td>\n",
              "      <td>0</td>\n",
              "      <td>0</td>\n",
              "      <td>0</td>\n",
              "      <td>0</td>\n",
              "      <td>0</td>\n",
              "      <td>0</td>\n",
              "      <td>0</td>\n",
              "      <td>1</td>\n",
              "      <td>0</td>\n",
              "      <td>0</td>\n",
              "      <td>0</td>\n",
              "      <td>0</td>\n",
              "      <td>0</td>\n",
              "      <td>0</td>\n",
              "      <td>0</td>\n",
              "      <td>1</td>\n",
              "      <td>0</td>\n",
              "      <td>0</td>\n",
              "      <td>0</td>\n",
              "      <td>0</td>\n",
              "      <td>1</td>\n",
              "      <td>4.3</td>\n",
              "    </tr>\n",
              "    <tr>\n",
              "      <th>4</th>\n",
              "      <td>5</td>\n",
              "      <td>396</td>\n",
              "      <td>6.50</td>\n",
              "      <td>175</td>\n",
              "      <td>4</td>\n",
              "      <td>2.2</td>\n",
              "      <td>84.23</td>\n",
              "      <td>160.4</td>\n",
              "      <td>64</td>\n",
              "      <td>3750</td>\n",
              "      <td>16</td>\n",
              "      <td>0</td>\n",
              "      <td>0</td>\n",
              "      <td>1</td>\n",
              "      <td>0</td>\n",
              "      <td>0</td>\n",
              "      <td>0</td>\n",
              "      <td>0</td>\n",
              "      <td>0</td>\n",
              "      <td>1</td>\n",
              "      <td>0</td>\n",
              "      <td>0</td>\n",
              "      <td>0</td>\n",
              "      <td>0</td>\n",
              "      <td>0</td>\n",
              "      <td>0</td>\n",
              "      <td>0</td>\n",
              "      <td>0</td>\n",
              "      <td>0</td>\n",
              "      <td>0</td>\n",
              "      <td>0</td>\n",
              "      <td>0</td>\n",
              "      <td>0</td>\n",
              "      <td>0</td>\n",
              "      <td>1</td>\n",
              "      <td>0</td>\n",
              "      <td>0</td>\n",
              "      <td>0</td>\n",
              "      <td>0</td>\n",
              "      <td>0</td>\n",
              "      <td>...</td>\n",
              "      <td>0</td>\n",
              "      <td>0</td>\n",
              "      <td>0</td>\n",
              "      <td>0</td>\n",
              "      <td>0</td>\n",
              "      <td>0</td>\n",
              "      <td>0</td>\n",
              "      <td>0</td>\n",
              "      <td>0</td>\n",
              "      <td>0</td>\n",
              "      <td>0</td>\n",
              "      <td>0</td>\n",
              "      <td>0</td>\n",
              "      <td>0</td>\n",
              "      <td>0</td>\n",
              "      <td>0</td>\n",
              "      <td>0</td>\n",
              "      <td>0</td>\n",
              "      <td>0</td>\n",
              "      <td>0</td>\n",
              "      <td>0</td>\n",
              "      <td>0</td>\n",
              "      <td>0</td>\n",
              "      <td>0</td>\n",
              "      <td>0</td>\n",
              "      <td>1</td>\n",
              "      <td>0</td>\n",
              "      <td>0</td>\n",
              "      <td>0</td>\n",
              "      <td>0</td>\n",
              "      <td>0</td>\n",
              "      <td>0</td>\n",
              "      <td>0</td>\n",
              "      <td>0</td>\n",
              "      <td>1</td>\n",
              "      <td>0</td>\n",
              "      <td>0</td>\n",
              "      <td>0</td>\n",
              "      <td>1</td>\n",
              "      <td>4.4</td>\n",
              "    </tr>\n",
              "  </tbody>\n",
              "</table>\n",
              "<p>5 rows × 88 columns</p>\n",
              "</div>"
            ],
            "text/plain": [
              "   PhoneId  Pixel Density  Screen Size  ...  Sim1_3G  Sim1_4G  Rating\n",
              "0        0            403         6.26  ...        0        1     4.5\n",
              "1        1            271         6.20  ...        0        1     4.5\n",
              "2        2            409         6.30  ...        0        1     4.4\n",
              "3        4            411         6.00  ...        0        1     4.3\n",
              "4        5            396         6.50  ...        0        1     4.4\n",
              "\n",
              "[5 rows x 88 columns]"
            ]
          },
          "metadata": {
            "tags": []
          },
          "execution_count": 25
        }
      ]
    },
    {
      "cell_type": "code",
      "metadata": {
        "id": "JYVOcLLktkXy",
        "colab_type": "code",
        "outputId": "4d496bb5-8735-46b0-f03b-b6872a2fe37b",
        "colab": {
          "base_uri": "https://localhost:8080/",
          "height": 34
        }
      },
      "source": [
        "data.shape"
      ],
      "execution_count": 26,
      "outputs": [
        {
          "output_type": "execute_result",
          "data": {
            "text/plain": [
              "(341, 88)"
            ]
          },
          "metadata": {
            "tags": []
          },
          "execution_count": 26
        }
      ]
    },
    {
      "cell_type": "code",
      "metadata": {
        "id": "_ZNM5Up_t8P_",
        "colab_type": "code",
        "colab": {}
      },
      "source": [
        "X=data.drop('Rating',axis=1) # Drop the last column . This is the class label 'Rating\n",
        "Y=data['Rating'].values # Y is the last column only. i.e with 'Rating' only\n",
        "\n"
      ],
      "execution_count": 0,
      "outputs": []
    },
    {
      "cell_type": "markdown",
      "metadata": {
        "id": "U5CDzBs7vMHA",
        "colab_type": "text"
      },
      "source": [
        "#### An important thing to note is that X is allways maintained as a data frame since it contains rows and columns\n",
        "***Y is converted from a Dataframe to a Numpy Array since it is allways easier to manage and process.***"
      ]
    },
    {
      "cell_type": "markdown",
      "metadata": {
        "id": "i2vRPSlJzMAB",
        "colab_type": "text"
      },
      "source": [
        "###### There is a need for maintaining both a binarized version of 'Y' as well as real valued value of Y since ***we*** are kind of doing binary classification\n",
        "\n",
        "***So train the data on actual value of Y , compute the accuracy of the model using binarized value of Y***"
      ]
    },
    {
      "cell_type": "markdown",
      "metadata": {
        "id": "uFGuFpSm0Y4O",
        "colab_type": "text"
      },
      "source": [
        "##### So it is important to look at the values of Y closely, define. the threshold and binarize it. \n",
        "\n",
        "#### Introduce a new column in the original data frame with an additional column 'Class' to hold the binarized rating"
      ]
    },
    {
      "cell_type": "code",
      "metadata": {
        "id": "mddd0Ij6vgRv",
        "colab_type": "code",
        "outputId": "573a35c7-60da-483b-f678-7fed7ab11b46",
        "colab": {
          "base_uri": "https://localhost:8080/",
          "height": 68
        }
      },
      "source": [
        "threshold = 4.0\n",
        "data['Class']=(data['Rating'] >= threshold).astype(np.int) # convert to integer as store the value\n",
        "data['Class'].value_counts()"
      ],
      "execution_count": 28,
      "outputs": [
        {
          "output_type": "execute_result",
          "data": {
            "text/plain": [
              "1    238\n",
              "0    103\n",
              "Name: Class, dtype: int64"
            ]
          },
          "metadata": {
            "tags": []
          },
          "execution_count": 28
        }
      ]
    },
    {
      "cell_type": "markdown",
      "metadata": {
        "id": "yyymXVks2FQM",
        "colab_type": "text"
      },
      "source": [
        "#### Observation of the value counts, we see that class is kind of skewed\n",
        "#### We will readjust the value of threshoulds and run it again"
      ]
    },
    {
      "cell_type": "code",
      "metadata": {
        "id": "B9Hpycjj2Ziw",
        "colab_type": "code",
        "outputId": "ebc5408d-891e-409f-8a44-e19289ae3fdd",
        "colab": {
          "base_uri": "https://localhost:8080/",
          "height": 68
        }
      },
      "source": [
        "threshold = 4.2\n",
        "data['Class']=(data['Rating'] >= threshold).astype(np.int) # convert to integer as store the value\n",
        "data['Class'].value_counts(normalize=True) # normalize = True helps in looking at % value of the split"
      ],
      "execution_count": 29,
      "outputs": [
        {
          "output_type": "execute_result",
          "data": {
            "text/plain": [
              "0    0.533724\n",
              "1    0.466276\n",
              "Name: Class, dtype: float64"
            ]
          },
          "metadata": {
            "tags": []
          },
          "execution_count": 29
        }
      ]
    },
    {
      "cell_type": "markdown",
      "metadata": {
        "id": "-098Zg5H3KfL",
        "colab_type": "text"
      },
      "source": [
        "##### So at threshold=4.2, we get 53% '1' value and 47% 0 value "
      ]
    },
    {
      "cell_type": "code",
      "metadata": {
        "id": "RKVKINlF35ho",
        "colab_type": "code",
        "colab": {}
      },
      "source": [
        "Y_binarized = data['Class'].values # Binarized values in a numpy array"
      ],
      "execution_count": 0,
      "outputs": []
    },
    {
      "cell_type": "markdown",
      "metadata": {
        "id": "DCK7zFez70Mu",
        "colab_type": "text"
      },
      "source": [
        "#### ***Standardization of data is the next key step***\n",
        "To center the data (make it have zero mean and unit standard error), you subtract the mean and then divide the result by the standard deviation.\n",
        "\n",
        "$𝑥′$=$\\frac{𝑥−𝜇}{𝜎}$\n",
        "\n",
        "This is where you use the sklearn.preprocessor fit and fit transform methods.\n",
        "\n",
        "You do that on the training set of data. But then you have to apply the same transformation to your testing set (e.g. in cross-validation), or to newly obtained examples before forecast. But you have to use the same two parameters 𝜇 and 𝜎 (values) that you used for centering the training set.\n",
        "\n",
        "Hence, every sklearn's transform's fit() just calculates the parameters (e.g. 𝜇 and 𝜎 in case of StandardScaler) and saves them as an internal objects state. Afterwards, you can call its transform() method to apply the transformation to a particular set of examples.\n",
        "\n",
        "fit_transform() joins these two steps and is used for the initial fitting of parameters on the training set 𝑥, but it also returns a transformed 𝑥′. Internally, it just calls first fit() and then transform() on the same data.\n",
        "\n",
        "So we use the 'Standard Scaler' of sklearn preprocessor. \n",
        "The StandardScaler assumes your data is normally distributed within each feature and will scale them such that the distribution is now centred around 0, with a standard deviation of 1."
      ]
    },
    {
      "cell_type": "markdown",
      "metadata": {
        "id": "qcZyPqWula7N",
        "colab_type": "text"
      },
      "source": [
        "### ***You should split the data between training and test data and then only standardize***"
      ]
    },
    {
      "cell_type": "code",
      "metadata": {
        "id": "VQP4H-4FmDqv",
        "colab_type": "code",
        "outputId": "019c5053-212c-460a-dafb-049c417d5c53",
        "colab": {
          "base_uri": "https://localhost:8080/",
          "height": 34
        }
      },
      "source": [
        "X_train,X_test,Y_train,Y_test = train_test_split(X,Y,random_state=1,stratify=Y_binarized) # setting random_state ensures every time the code is run, results are same\n",
        "print(X_train.shape, X_test.shape)"
      ],
      "execution_count": 31,
      "outputs": [
        {
          "output_type": "stream",
          "text": [
            "(255, 87) (86, 87)\n"
          ],
          "name": "stdout"
        }
      ]
    },
    {
      "cell_type": "markdown",
      "metadata": {
        "id": "Ch7A1YITnilC",
        "colab_type": "text"
      },
      "source": [
        "######### In real life, you have access to only the training data. We use fit_transform() on the train data so that we learn the parameters of scaling on the train data and in the same time we scale the train data. We only use transform() on the test data because we use the scaling paramaters learned on the train data to scale the test data. i.e apply the same mean and standard deviation learnt on the training data to the test data"
      ]
    },
    {
      "cell_type": "code",
      "metadata": {
        "id": "V53HTG3hpVjy",
        "colab_type": "code",
        "colab": {}
      },
      "source": [
        "Scaler = StandardScaler()\n",
        "X_scaled_train = Scaler.fit_transform(X_train)\n",
        "X_scaled_test = Scaler.transform(X_test)"
      ],
      "execution_count": 0,
      "outputs": []
    },
    {
      "cell_type": "markdown",
      "metadata": {
        "id": "r9I2ayIRr2_E",
        "colab_type": "text"
      },
      "source": [
        ""
      ]
    },
    {
      "cell_type": "markdown",
      "metadata": {
        "id": "VIGBUkqqqlc0",
        "colab_type": "text"
      },
      "source": [
        "####### Y Variables need to be transformed in a different manner. Y varies from 0 to 1. It is a sigmoid function. So we need to use a different scaler. The trick is min has to be zero and max has to be 1. So the sklearn preprocessor is 'MinMax Scaler'.\n",
        "The concept of fit_transform() and transform() all apply to MinMax Scaler also."
      ]
    },
    {
      "cell_type": "code",
      "metadata": {
        "id": "wpzKnWGerVLt",
        "colab_type": "code",
        "outputId": "e3c874d6-3008-4598-98bd-6bb54e853739",
        "colab": {
          "base_uri": "https://localhost:8080/",
          "height": 34
        }
      },
      "source": [
        "minmax_scaler = MinMaxScaler()\n",
        "Y_scaled_train = minmax_scaler.fit_transform(Y_train.reshape(-1,1))\n",
        "Y_scaled_test = minmax_scaler.transform(Y_test.reshape(-1,1))\n",
        "print(np.max(Y_scaled_train),np.min(Y_scaled_train))\n"
      ],
      "execution_count": 33,
      "outputs": [
        {
          "output_type": "stream",
          "text": [
            "1.0 0.0\n"
          ],
          "name": "stdout"
        }
      ]
    },
    {
      "cell_type": "markdown",
      "metadata": {
        "id": "T2YgIhE003zk",
        "colab_type": "text"
      },
      "source": [
        "###### We need to do the same for the binarized data as well."
      ]
    },
    {
      "cell_type": "code",
      "metadata": {
        "id": "uacUldd22TyG",
        "colab_type": "code",
        "outputId": "938226ac-f5ae-4983-f719-fb560b040759",
        "colab": {
          "base_uri": "https://localhost:8080/",
          "height": 34
        }
      },
      "source": [
        "scaled_threshold = list(minmax_scaler.transform(np.array([threshold]).reshape(1,-1)))[0][0]\n",
        "print(scaled_threshold)"
      ],
      "execution_count": 34,
      "outputs": [
        {
          "output_type": "stream",
          "text": [
            "0.6800000000000002\n"
          ],
          "name": "stdout"
        }
      ]
    },
    {
      "cell_type": "markdown",
      "metadata": {
        "id": "sULvok7nEX3D",
        "colab_type": "text"
      },
      "source": [
        "########The criterion to satisfy for providing the new shape is that 'The new shape should be compatible with the original shape'\n",
        "\n",
        "numpy allow us to give one of new shape parameter as -1 (eg: (2,-1) or (-1,3) but not (-1, -1)). It simply means that it is an unknown dimension and we want numpy to figure it out. And numpy will figure this by looking at the 'length of the array and remaining dimensions' and making sure it satisfies the above mentioned criteria\n",
        "\n",
        "numpy.ndarray.flatten function returns a copy of an array collapsed into one dimension. The function takes the following parameters.\n",
        "\n",
        "import numpy as np\n",
        "\n",
        "a = np.arange(10)\n",
        "print(\"Original array : \\n\", a)\n",
        "\n",
        "a = np.arange(10).reshape(2, 5)\n",
        "\n",
        "print(\"printing 2 * 5 dimentional array\",a)\n",
        "\n",
        "b= a.flatten()\n",
        "\n",
        "print(\"printing Flattern array using flatten() function\",b)"
      ]
    },
    {
      "cell_type": "markdown",
      "metadata": {
        "id": "Ogbv3FEr3gc7",
        "colab_type": "text"
      },
      "source": [
        "###### So 4.2 which was the threshold has now become 0.68 as the threshold in the binarized world."
      ]
    },
    {
      "cell_type": "code",
      "metadata": {
        "id": "dP1ZbmT_3plf",
        "colab_type": "code",
        "outputId": "987f57c3-553a-477f-eedb-c872100a0147",
        "colab": {
          "base_uri": "https://localhost:8080/",
          "height": 136
        }
      },
      "source": [
        "Y_binarized_train = (Y_scaled_train >= scaled_threshold).astype(np.int).ravel()\n",
        "print(Y_binarized_train)\n",
        "Y_binarized_test = (Y_scaled_test >= scaled_threshold).astype(np.int).ravel()"
      ],
      "execution_count": 35,
      "outputs": [
        {
          "output_type": "stream",
          "text": [
            "[1 0 0 1 0 0 0 0 0 0 0 1 0 0 1 0 1 1 1 0 1 1 1 0 1 0 1 1 0 0 0 0 0 1 0 1 1\n",
            " 1 0 1 0 0 0 1 0 1 1 1 0 1 0 1 1 1 1 1 0 1 1 1 1 0 0 0 1 1 1 0 0 0 0 0 1 1\n",
            " 1 0 1 1 1 1 1 1 1 0 0 0 1 1 0 0 1 1 1 0 0 0 0 0 0 1 0 0 0 0 0 0 0 0 0 0 0\n",
            " 0 0 1 0 0 0 1 1 1 0 1 0 1 0 1 0 1 0 0 0 0 1 0 0 0 0 1 0 0 0 0 0 1 1 1 0 1\n",
            " 0 1 1 1 1 0 1 0 1 1 0 0 1 0 1 0 0 1 1 1 1 0 1 0 1 0 0 0 0 1 0 0 1 0 0 1 0\n",
            " 0 1 0 0 1 0 1 1 1 0 1 0 1 0 1 0 1 0 1 1 0 1 1 0 0 0 0 0 0 1 1 0 1 0 0 1 0\n",
            " 1 1 1 0 1 1 0 0 0 1 0 0 1 1 0 0 1 1 1 0 0 1 1 0 1 1 0 1 0 1 0 1 1]\n"
          ],
          "name": "stdout"
        }
      ]
    },
    {
      "cell_type": "markdown",
      "metadata": {
        "id": "t-pGLHPk0Im2",
        "colab_type": "text"
      },
      "source": [
        "#### Actual Fitment of Training Data"
      ]
    },
    {
      "cell_type": "code",
      "metadata": {
        "id": "S--aP9WM0HBC",
        "colab_type": "code",
        "colab": {
          "base_uri": "https://localhost:8080/",
          "height": 383,
          "referenced_widgets": [
            "5c20b0a84cc74350a426450c18d2008c",
            "54dc64e1dcf94bc796c8c0fc61bdcf45",
            "05ec0bf4a47b40bbbff9c2f4274732d3",
            "5ee2317acb81473b89e1c372c77547ae",
            "4c5e4432a0d54ea2969f7576f14b8a0d",
            "92a658e8be754b7fb1db6ba7252f3f50",
            "e23581243bae407fbb39bbf0df42b22d",
            "d93280a1b0c24487a87dfb86208f962b"
          ]
        },
        "outputId": "38844f82-5a89-4cc8-b8bf-4f2815316f29"
      },
      "source": [
        "sn = SigmoidNeuron()\n",
        "sn.fit(X_scaled_train,Y_scaled_train,epochs=5500,lr=0.01,display_loss=True)"
      ],
      "execution_count": 100,
      "outputs": [
        {
          "output_type": "stream",
          "text": [
            "/usr/local/lib/python3.6/dist-packages/ipykernel_launcher.py:38: TqdmDeprecationWarning: This function will be removed in tqdm==5.0.0\n",
            "Please use `tqdm.notebook.tqdm` instead of `tqdm.tqdm_notebook`\n"
          ],
          "name": "stderr"
        },
        {
          "output_type": "display_data",
          "data": {
            "application/vnd.jupyter.widget-view+json": {
              "model_id": "5c20b0a84cc74350a426450c18d2008c",
              "version_minor": 0,
              "version_major": 2
            },
            "text/plain": [
              "HBox(children=(IntProgress(value=0, max=5500), HTML(value='')))"
            ]
          },
          "metadata": {
            "tags": []
          }
        },
        {
          "output_type": "stream",
          "text": [
            "\n",
            "Epochs is  5499\n"
          ],
          "name": "stdout"
        },
        {
          "output_type": "display_data",
          "data": {
            "image/png": "[encoded data removed]",
            "text/plain": [
              "<Figure size 432x288 with 1 Axes>"
            ]
          },
          "metadata": {
            "tags": []
          }
        }
      ]
    },
    {
      "cell_type": "markdown",
      "metadata": {
        "id": "imw7lJnCdLJO",
        "colab_type": "text"
      },
      "source": [
        "#### The above is called the loss plot. \n",
        "### Large Drop in initial iterations. Changng the hyper parameter and modifying the lr and epoch is key"
      ]
    },
    {
      "cell_type": "markdown",
      "metadata": {
        "id": "VHebJaY4N_M1",
        "colab_type": "text"
      },
      "source": [
        "####### Predict for the training and test data set"
      ]
    },
    {
      "cell_type": "code",
      "metadata": {
        "id": "1u3KtXEEOGgm",
        "colab_type": "code",
        "colab": {}
      },
      "source": [
        "Y_pred_train=sn.predict(X_scaled_train)\n",
        "Y_pred_test=sn.predict(X_scaled_test)\n",
        "\n",
        "Y_pred_binarized_train= (Y_pred_train >= scaled_threshold).astype(\"int\").ravel()\n",
        "Y_pred_binarized_test= (Y_pred_test >= scaled_threshold).astype(\"int\").ravel()"
      ],
      "execution_count": 0,
      "outputs": []
    },
    {
      "cell_type": "markdown",
      "metadata": {
        "id": "Bhvffb9UPf8_",
        "colab_type": "text"
      },
      "source": [
        "##### Accuracy Score Computation"
      ]
    },
    {
      "cell_type": "code",
      "metadata": {
        "id": "79j8Igr-Pl4G",
        "colab_type": "code",
        "colab": {
          "base_uri": "https://localhost:8080/",
          "height": 34
        },
        "outputId": "e720e6b9-c79b-4166-8c82-e5a6de8d2c5c"
      },
      "source": [
        "accuracy_train = accuracy_score(Y_pred_binarized_train,Y_binarized_train)\n",
        "accuracy_test = accuracy_score(Y_pred_binarized_test,Y_binarized_test)\n",
        "print(accuracy_train,accuracy_test)"
      ],
      "execution_count": 80,
      "outputs": [
        {
          "output_type": "stream",
          "text": [
            "0.7568627450980392 0.7093023255813954\n"
          ],
          "name": "stdout"
        }
      ]
    },
    {
      "cell_type": "markdown",
      "metadata": {
        "id": "ivvWnd7TQE5i",
        "colab_type": "text"
      },
      "source": [
        "###### Change the epoch and learning rate in sn.fit and see how it improves the Test and Training Accuracy. At an epoch of 2500 and learning rate of 0.02 we attain a relatively high accuracy in training and testing data set "
      ]
    }
  ]
}