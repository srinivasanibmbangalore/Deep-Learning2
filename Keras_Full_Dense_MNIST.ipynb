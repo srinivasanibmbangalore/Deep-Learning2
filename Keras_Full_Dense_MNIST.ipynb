{
  "nbformat": 4,
  "nbformat_minor": 0,
  "metadata": {
    "colab": {
      "name": "Keras Full Dense MNIST.ipynb",
      "provenance": [],
      "collapsed_sections": [],
      "authorship_tag": "ABX9TyPQy79fI2WWEOYq0ciNytTB",
      "include_colab_link": true
    },
    "kernelspec": {
      "name": "python3",
      "display_name": "Python 3"
    }
  },
  "cells": [
    {
      "cell_type": "markdown",
      "metadata": {
        "id": "view-in-github",
        "colab_type": "text"
      },
      "source": [
        "<a href=\"https://colab.research.google.com/github/srinivasanibmbangalore/Deep-Learning2/blob/Version-1/Keras_Full_Dense_MNIST.ipynb\" target=\"_parent\"><img src=\"https://colab.research.google.com/assets/colab-badge.svg\" alt=\"Open In Colab\"/></a>"
      ]
    },
    {
      "cell_type": "code",
      "metadata": {
        "id": "ceOypB7Lw-r6",
        "colab_type": "code",
        "colab": {}
      },
      "source": [
        "from keras.datasets import mnist\n",
        "from keras.utils import to_categorical\n",
        "from keras.models import Sequential\n",
        "from keras.layers import Dense, Dropout\n",
        "import matplotlib.pyplot as plt"
      ],
      "execution_count": 0,
      "outputs": []
    },
    {
      "cell_type": "code",
      "metadata": {
        "id": "Qx9fY6Jy0X2R",
        "colab_type": "code",
        "colab": {}
      },
      "source": [
        "batch_size=128\n",
        "epochs=20\n",
        "num_classes=10"
      ],
      "execution_count": 0,
      "outputs": []
    },
    {
      "cell_type": "code",
      "metadata": {
        "id": "cAN1R_eE0ech",
        "colab_type": "code",
        "colab": {
          "base_uri": "https://localhost:8080/",
          "height": 34
        },
        "outputId": "01c9a10c-40af-4142-ec54-6c12d86909d1"
      },
      "source": [
        "(x_train,y_train),(x_test,y_test) = mnist.load_data()\n",
        "x_train.shape"
      ],
      "execution_count": 19,
      "outputs": [
        {
          "output_type": "execute_result",
          "data": {
            "text/plain": [
              "(60000, 28, 28)"
            ]
          },
          "metadata": {
            "tags": []
          },
          "execution_count": 19
        }
      ]
    },
    {
      "cell_type": "code",
      "metadata": {
        "id": "74DEqVZc0t9g",
        "colab_type": "code",
        "colab": {
          "base_uri": "https://localhost:8080/",
          "height": 34
        },
        "outputId": "2fa1a1fd-b731-4cd4-bc57-242fbf20c9d4"
      },
      "source": [
        "x_train.shape"
      ],
      "execution_count": 5,
      "outputs": [
        {
          "output_type": "execute_result",
          "data": {
            "text/plain": [
              "(60000, 28, 28)"
            ]
          },
          "metadata": {
            "tags": []
          },
          "execution_count": 5
        }
      ]
    },
    {
      "cell_type": "code",
      "metadata": {
        "id": "BRHnui7m06Uz",
        "colab_type": "code",
        "colab": {
          "base_uri": "https://localhost:8080/",
          "height": 34
        },
        "outputId": "87de4f3e-c223-4fcd-f4a8-6cb2f7ee2cca"
      },
      "source": [
        "y_train.shape"
      ],
      "execution_count": 6,
      "outputs": [
        {
          "output_type": "execute_result",
          "data": {
            "text/plain": [
              "(60000,)"
            ]
          },
          "metadata": {
            "tags": []
          },
          "execution_count": 6
        }
      ]
    },
    {
      "cell_type": "code",
      "metadata": {
        "id": "KATQEyAP06K1",
        "colab_type": "code",
        "colab": {
          "base_uri": "https://localhost:8080/",
          "height": 34
        },
        "outputId": "4ae85528-9e47-44e1-c79b-e33423d501bd"
      },
      "source": [
        "x_test.shape"
      ],
      "execution_count": 7,
      "outputs": [
        {
          "output_type": "execute_result",
          "data": {
            "text/plain": [
              "(10000, 28, 28)"
            ]
          },
          "metadata": {
            "tags": []
          },
          "execution_count": 7
        }
      ]
    },
    {
      "cell_type": "code",
      "metadata": {
        "id": "Y7aFmlcK05-1",
        "colab_type": "code",
        "colab": {
          "base_uri": "https://localhost:8080/",
          "height": 34
        },
        "outputId": "78347adf-b7bd-4149-9248-774bc7767921"
      },
      "source": [
        "y_test.shape"
      ],
      "execution_count": 8,
      "outputs": [
        {
          "output_type": "execute_result",
          "data": {
            "text/plain": [
              "(10000,)"
            ]
          },
          "metadata": {
            "tags": []
          },
          "execution_count": 8
        }
      ]
    },
    {
      "cell_type": "code",
      "metadata": {
        "id": "dCkpctyo1yRS",
        "colab_type": "code",
        "colab": {
          "base_uri": "https://localhost:8080/",
          "height": 34
        },
        "outputId": "c087fc5a-0e26-4b1b-90da-61e8399848ae"
      },
      "source": [
        "print(x_train[0][1])"
      ],
      "execution_count": 9,
      "outputs": [
        {
          "output_type": "stream",
          "text": [
            "[0 0 0 0 0 0 0 0 0 0 0 0 0 0 0 0 0 0 0 0 0 0 0 0 0 0 0 0]\n"
          ],
          "name": "stdout"
        }
      ]
    },
    {
      "cell_type": "code",
      "metadata": {
        "id": "G_xhBut1Nqtf",
        "colab_type": "code",
        "colab": {}
      },
      "source": [
        ""
      ],
      "execution_count": 0,
      "outputs": []
    },
    {
      "cell_type": "code",
      "metadata": {
        "id": "KtKDYw592I6B",
        "colab_type": "code",
        "colab": {}
      },
      "source": [
        "x_train=x_train.reshape(60000,784)\n",
        "x_test=x_test.reshape(10000,784)\n",
        "x_train=x_train.astype('float32')\n",
        "x_test = x_test.astype('float32')\n",
        "x_train/= 255\n",
        "x_test/= 255\n"
      ],
      "execution_count": 0,
      "outputs": []
    },
    {
      "cell_type": "code",
      "metadata": {
        "id": "Zuxrxtx3NsIW",
        "colab_type": "code",
        "colab": {
          "base_uri": "https://localhost:8080/",
          "height": 551
        },
        "outputId": "6c270ba5-e392-432b-ac19-031b4f827366"
      },
      "source": [
        "fig = plt.figure()\n",
        "for i in range(9):\n",
        "  plt.subplot(3,3,i+1)\n",
        "  plt.tight_layout()\n",
        "  plt.imshow(x_train[i], cmap='gray', interpolation='none')\n",
        "  plt.title(\"Digit: {}\".format(y_train[i]))\n",
        "  plt.xticks([])\n",
        "  plt.yticks([])\n",
        "fig"
      ],
      "execution_count": 20,
      "outputs": [
        {
          "output_type": "execute_result",
          "data": {
            "image/png": "[encoded data removed]",
            "text/plain": [
              "<Figure size 432x288 with 9 Axes>"
            ]
          },
          "metadata": {
            "tags": []
          },
          "execution_count": 20
        },
        {
          "output_type": "display_data",
          "data": {
            "image/png": "[encoded data removed]",
            "text/plain": [
              "<Figure size 432x288 with 9 Axes>"
            ]
          },
          "metadata": {
            "tags": []
          }
        }
      ]
    },
    {
      "cell_type": "code",
      "metadata": {
        "id": "-A3kS8x3OBz_",
        "colab_type": "code",
        "colab": {
          "base_uri": "https://localhost:8080/",
          "height": 545
        },
        "outputId": "7e66b6a7-a710-43c3-a0e4-acd8bc498eff"
      },
      "source": [
        "fig = plt.figure()\n",
        "plt.subplot(2,1,1)\n",
        "plt.imshow(x_train[0], cmap='gray', interpolation='none')\n",
        "plt.title(\"Digit: {}\".format(y_train[0]))\n",
        "plt.xticks([])\n",
        "plt.yticks([])\n",
        "plt.subplot(2,1,2)\n",
        "plt.hist(x_train[0].reshape(784))\n",
        "plt.title(\"Pixel Value Distribution\")\n",
        "fig"
      ],
      "execution_count": 22,
      "outputs": [
        {
          "output_type": "execute_result",
          "data": {
            "image/png": "[encoded data removed]",
            "text/plain": [
              "<Figure size 432x288 with 2 Axes>"
            ]
          },
          "metadata": {
            "tags": []
          },
          "execution_count": 22
        },
        {
          "output_type": "display_data",
          "data": {
            "image/png": "[encoded data removed]",
            "text/plain": [
              "<Figure size 432x288 with 2 Axes>"
            ]
          },
          "metadata": {
            "tags": [],
            "needs_background": "light"
          }
        }
      ]
    },
    {
      "cell_type": "code",
      "metadata": {
        "id": "ZVcbf7TwFQGx",
        "colab_type": "code",
        "colab": {
          "base_uri": "https://localhost:8080/",
          "height": 51
        },
        "outputId": "6fab4a23-c515-451b-e119-595815a7f911"
      },
      "source": [
        "#y_train=to_categorical(y_train,num_classes)\n",
        "#y_test=to_categorical(y_test,num_classes)\n",
        "print(\"Before shape is \",y_train.shape)\n",
        "from keras.utils import np_utils\n",
        "y_train = np_utils.to_categorical(y_train, num_classes)\n",
        "y_test = np_utils.to_categorical(y_test, num_classes)\n",
        "y_train.shape"
      ],
      "execution_count": 11,
      "outputs": [
        {
          "output_type": "stream",
          "text": [
            "Before shape is  (60000,)\n"
          ],
          "name": "stdout"
        },
        {
          "output_type": "execute_result",
          "data": {
            "text/plain": [
              "(60000, 10)"
            ]
          },
          "metadata": {
            "tags": []
          },
          "execution_count": 11
        }
      ]
    },
    {
      "cell_type": "code",
      "metadata": {
        "id": "9OdoQR7xGEJA",
        "colab_type": "code",
        "colab": {}
      },
      "source": [
        "model=Sequential()\n",
        "model.add(Dense(512,activation='relu',input_shape=(784,)))\n",
        "model.add(Dropout(0.2))\n",
        "model.add(Dense(512,activation='relu'))\n",
        "model.add(Dropout(0.2))\n",
        "model.add(Dense(num_classes,activation='softmax'))"
      ],
      "execution_count": 0,
      "outputs": []
    },
    {
      "cell_type": "code",
      "metadata": {
        "id": "ym39EGwQHFzO",
        "colab_type": "code",
        "colab": {
          "base_uri": "https://localhost:8080/",
          "height": 323
        },
        "outputId": "90828267-371c-49ee-dc46-e9e7630f8ed8"
      },
      "source": [
        "model.summary()\n",
        "model.compile(loss='categorical_crossentropy',optimizer='sgd',metrics=['accuracy'])"
      ],
      "execution_count": 13,
      "outputs": [
        {
          "output_type": "stream",
          "text": [
            "Model: \"sequential_1\"\n",
            "_________________________________________________________________\n",
            "Layer (type)                 Output Shape              Param #   \n",
            "=================================================================\n",
            "dense_1 (Dense)              (None, 512)               401920    \n",
            "_________________________________________________________________\n",
            "dropout_1 (Dropout)          (None, 512)               0         \n",
            "_________________________________________________________________\n",
            "dense_2 (Dense)              (None, 512)               262656    \n",
            "_________________________________________________________________\n",
            "dropout_2 (Dropout)          (None, 512)               0         \n",
            "_________________________________________________________________\n",
            "dense_3 (Dense)              (None, 10)                5130      \n",
            "=================================================================\n",
            "Total params: 669,706\n",
            "Trainable params: 669,706\n",
            "Non-trainable params: 0\n",
            "_________________________________________________________________\n"
          ],
          "name": "stdout"
        }
      ]
    },
    {
      "cell_type": "code",
      "metadata": {
        "id": "mroTz5_VHfwB",
        "colab_type": "code",
        "colab": {
          "base_uri": "https://localhost:8080/",
          "height": 765
        },
        "outputId": "29a55cbc-99ae-4b26-a581-108311aafffe"
      },
      "source": [
        "model.fit(x_train,y_train,batch_size=batch_size,epochs=epochs,validation_data=(x_test,y_test))\n",
        "score=model.evaluate(x_test,y_test)\n",
        "print(\"Test Loss:\",score[0])\n",
        "print(\"Test Accuracy\",score[1])"
      ],
      "execution_count": 14,
      "outputs": [
        {
          "output_type": "stream",
          "text": [
            "Train on 60000 samples, validate on 10000 samples\n",
            "Epoch 1/20\n",
            "60000/60000 [==============================] - 8s 130us/step - loss: 1.2180 - accuracy: 0.6888 - val_loss: 0.5431 - val_accuracy: 0.8661\n",
            "Epoch 2/20\n",
            "60000/60000 [==============================] - 7s 121us/step - loss: 0.5306 - accuracy: 0.8507 - val_loss: 0.3738 - val_accuracy: 0.8989\n",
            "Epoch 3/20\n",
            "60000/60000 [==============================] - 7s 121us/step - loss: 0.4222 - accuracy: 0.8794 - val_loss: 0.3208 - val_accuracy: 0.9098\n",
            "Epoch 4/20\n",
            "60000/60000 [==============================] - 7s 122us/step - loss: 0.3732 - accuracy: 0.8928 - val_loss: 0.2920 - val_accuracy: 0.9173\n",
            "Epoch 5/20\n",
            "60000/60000 [==============================] - 7s 122us/step - loss: 0.3401 - accuracy: 0.9006 - val_loss: 0.2702 - val_accuracy: 0.9224\n",
            "Epoch 6/20\n",
            "60000/60000 [==============================] - 7s 122us/step - loss: 0.3182 - accuracy: 0.9074 - val_loss: 0.2531 - val_accuracy: 0.9288\n",
            "Epoch 7/20\n",
            "60000/60000 [==============================] - 7s 121us/step - loss: 0.2968 - accuracy: 0.9137 - val_loss: 0.2399 - val_accuracy: 0.9319\n",
            "Epoch 8/20\n",
            "60000/60000 [==============================] - 7s 122us/step - loss: 0.2795 - accuracy: 0.9197 - val_loss: 0.2280 - val_accuracy: 0.9343\n",
            "Epoch 9/20\n",
            "60000/60000 [==============================] - 7s 122us/step - loss: 0.2665 - accuracy: 0.9223 - val_loss: 0.2173 - val_accuracy: 0.9376\n",
            "Epoch 10/20\n",
            "60000/60000 [==============================] - 7s 121us/step - loss: 0.2550 - accuracy: 0.9272 - val_loss: 0.2073 - val_accuracy: 0.9405\n",
            "Epoch 11/20\n",
            "60000/60000 [==============================] - 7s 121us/step - loss: 0.2428 - accuracy: 0.9295 - val_loss: 0.1984 - val_accuracy: 0.9424\n",
            "Epoch 12/20\n",
            "60000/60000 [==============================] - 7s 121us/step - loss: 0.2327 - accuracy: 0.9330 - val_loss: 0.1909 - val_accuracy: 0.9451\n",
            "Epoch 13/20\n",
            "60000/60000 [==============================] - 7s 121us/step - loss: 0.2235 - accuracy: 0.9349 - val_loss: 0.1833 - val_accuracy: 0.9470\n",
            "Epoch 14/20\n",
            "60000/60000 [==============================] - 7s 121us/step - loss: 0.2141 - accuracy: 0.9376 - val_loss: 0.1769 - val_accuracy: 0.9493\n",
            "Epoch 15/20\n",
            "60000/60000 [==============================] - 7s 121us/step - loss: 0.2056 - accuracy: 0.9402 - val_loss: 0.1703 - val_accuracy: 0.9509\n",
            "Epoch 16/20\n",
            "60000/60000 [==============================] - 7s 121us/step - loss: 0.1987 - accuracy: 0.9426 - val_loss: 0.1650 - val_accuracy: 0.9516\n",
            "Epoch 17/20\n",
            "60000/60000 [==============================] - 7s 122us/step - loss: 0.1912 - accuracy: 0.9442 - val_loss: 0.1589 - val_accuracy: 0.9533\n",
            "Epoch 18/20\n",
            "60000/60000 [==============================] - 7s 121us/step - loss: 0.1857 - accuracy: 0.9459 - val_loss: 0.1547 - val_accuracy: 0.9546\n",
            "Epoch 19/20\n",
            "60000/60000 [==============================] - 7s 119us/step - loss: 0.1800 - accuracy: 0.9484 - val_loss: 0.1497 - val_accuracy: 0.9556\n",
            "Epoch 20/20\n",
            "60000/60000 [==============================] - 7s 121us/step - loss: 0.1746 - accuracy: 0.9495 - val_loss: 0.1449 - val_accuracy: 0.9573\n",
            "10000/10000 [==============================] - 1s 63us/step\n",
            "Test Loss: 0.14491119507439434\n",
            "Test Accuracy 0.9573000073432922\n"
          ],
          "name": "stdout"
        }
      ]
    }
  ]
}