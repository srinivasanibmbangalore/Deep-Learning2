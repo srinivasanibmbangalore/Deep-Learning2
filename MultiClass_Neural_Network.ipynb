{
  "nbformat": 4,
  "nbformat_minor": 0,
  "metadata": {
    "colab": {
      "name": "MultiClass Neural Network.ipynb",
      "provenance": [],
      "authorship_tag": "ABX9TyPyMqtQQZT9o8bZRRYG10ul",
      "include_colab_link": true
    },
    "kernelspec": {
      "name": "python3",
      "display_name": "Python 3"
    },
    "widgets": {
      "application/vnd.jupyter.widget-state+json": {
        "4028996e33344455910861c6c8b6a67a": {
          "model_module": "@jupyter-widgets/controls",
          "model_name": "HBoxModel",
          "state": {
            "_view_name": "HBoxView",
            "_dom_classes": [],
            "_model_name": "HBoxModel",
            "_view_module": "@jupyter-widgets/controls",
            "_model_module_version": "1.5.0",
            "_view_count": null,
            "_view_module_version": "1.5.0",
            "box_style": "",
            "layout": "IPY_MODEL_0df15a81e7594c2ba53539431840c71a",
            "_model_module": "@jupyter-widgets/controls",
            "children": [
              "IPY_MODEL_3a66a29b939c4e32863b7d27a2a98d7c",
              "IPY_MODEL_809aa27c77f54dc79948829b8206b8d1"
            ]
          }
        },
        "0df15a81e7594c2ba53539431840c71a": {
          "model_module": "@jupyter-widgets/base",
          "model_name": "LayoutModel",
          "state": {
            "_view_name": "LayoutView",
            "grid_template_rows": null,
            "right": null,
            "justify_content": null,
            "_view_module": "@jupyter-widgets/base",
            "overflow": null,
            "_model_module_version": "1.2.0",
            "_view_count": null,
            "flex_flow": null,
            "width": null,
            "min_width": null,
            "border": null,
            "align_items": null,
            "bottom": null,
            "_model_module": "@jupyter-widgets/base",
            "top": null,
            "grid_column": null,
            "overflow_y": null,
            "overflow_x": null,
            "grid_auto_flow": null,
            "grid_area": null,
            "grid_template_columns": null,
            "flex": null,
            "_model_name": "LayoutModel",
            "justify_items": null,
            "grid_row": null,
            "max_height": null,
            "align_content": null,
            "visibility": null,
            "align_self": null,
            "height": null,
            "min_height": null,
            "padding": null,
            "grid_auto_rows": null,
            "grid_gap": null,
            "max_width": null,
            "order": null,
            "_view_module_version": "1.2.0",
            "grid_template_areas": null,
            "object_position": null,
            "object_fit": null,
            "grid_auto_columns": null,
            "margin": null,
            "display": null,
            "left": null
          }
        },
        "3a66a29b939c4e32863b7d27a2a98d7c": {
          "model_module": "@jupyter-widgets/controls",
          "model_name": "FloatProgressModel",
          "state": {
            "_view_name": "ProgressView",
            "style": "IPY_MODEL_f110deb0fb004283a0e2a44dcbf6a813",
            "_dom_classes": [],
            "description": "100%",
            "_model_name": "FloatProgressModel",
            "bar_style": "success",
            "max": 1500,
            "_view_module": "@jupyter-widgets/controls",
            "_model_module_version": "1.5.0",
            "value": 1500,
            "_view_count": null,
            "_view_module_version": "1.5.0",
            "orientation": "horizontal",
            "min": 0,
            "description_tooltip": null,
            "_model_module": "@jupyter-widgets/controls",
            "layout": "IPY_MODEL_ba18b240064643f4862f61cf462db059"
          }
        },
        "809aa27c77f54dc79948829b8206b8d1": {
          "model_module": "@jupyter-widgets/controls",
          "model_name": "HTMLModel",
          "state": {
            "_view_name": "HTMLView",
            "style": "IPY_MODEL_cd4ed25f1e11467aade7d642e94e87e5",
            "_dom_classes": [],
            "description": "",
            "_model_name": "HTMLModel",
            "placeholder": "​",
            "_view_module": "@jupyter-widgets/controls",
            "_model_module_version": "1.5.0",
            "value": " 1500/1500 [02:12&lt;00:00, 11.34epoch/s]",
            "_view_count": null,
            "_view_module_version": "1.5.0",
            "description_tooltip": null,
            "_model_module": "@jupyter-widgets/controls",
            "layout": "IPY_MODEL_762c784b5cba4b6eaab4d0d27cff6652"
          }
        },
        "f110deb0fb004283a0e2a44dcbf6a813": {
          "model_module": "@jupyter-widgets/controls",
          "model_name": "ProgressStyleModel",
          "state": {
            "_view_name": "StyleView",
            "_model_name": "ProgressStyleModel",
            "description_width": "initial",
            "_view_module": "@jupyter-widgets/base",
            "_model_module_version": "1.5.0",
            "_view_count": null,
            "_view_module_version": "1.2.0",
            "bar_color": null,
            "_model_module": "@jupyter-widgets/controls"
          }
        },
        "ba18b240064643f4862f61cf462db059": {
          "model_module": "@jupyter-widgets/base",
          "model_name": "LayoutModel",
          "state": {
            "_view_name": "LayoutView",
            "grid_template_rows": null,
            "right": null,
            "justify_content": null,
            "_view_module": "@jupyter-widgets/base",
            "overflow": null,
            "_model_module_version": "1.2.0",
            "_view_count": null,
            "flex_flow": null,
            "width": null,
            "min_width": null,
            "border": null,
            "align_items": null,
            "bottom": null,
            "_model_module": "@jupyter-widgets/base",
            "top": null,
            "grid_column": null,
            "overflow_y": null,
            "overflow_x": null,
            "grid_auto_flow": null,
            "grid_area": null,
            "grid_template_columns": null,
            "flex": null,
            "_model_name": "LayoutModel",
            "justify_items": null,
            "grid_row": null,
            "max_height": null,
            "align_content": null,
            "visibility": null,
            "align_self": null,
            "height": null,
            "min_height": null,
            "padding": null,
            "grid_auto_rows": null,
            "grid_gap": null,
            "max_width": null,
            "order": null,
            "_view_module_version": "1.2.0",
            "grid_template_areas": null,
            "object_position": null,
            "object_fit": null,
            "grid_auto_columns": null,
            "margin": null,
            "display": null,
            "left": null
          }
        },
        "cd4ed25f1e11467aade7d642e94e87e5": {
          "model_module": "@jupyter-widgets/controls",
          "model_name": "DescriptionStyleModel",
          "state": {
            "_view_name": "StyleView",
            "_model_name": "DescriptionStyleModel",
            "description_width": "",
            "_view_module": "@jupyter-widgets/base",
            "_model_module_version": "1.5.0",
            "_view_count": null,
            "_view_module_version": "1.2.0",
            "_model_module": "@jupyter-widgets/controls"
          }
        },
        "762c784b5cba4b6eaab4d0d27cff6652": {
          "model_module": "@jupyter-widgets/base",
          "model_name": "LayoutModel",
          "state": {
            "_view_name": "LayoutView",
            "grid_template_rows": null,
            "right": null,
            "justify_content": null,
            "_view_module": "@jupyter-widgets/base",
            "overflow": null,
            "_model_module_version": "1.2.0",
            "_view_count": null,
            "flex_flow": null,
            "width": null,
            "min_width": null,
            "border": null,
            "align_items": null,
            "bottom": null,
            "_model_module": "@jupyter-widgets/base",
            "top": null,
            "grid_column": null,
            "overflow_y": null,
            "overflow_x": null,
            "grid_auto_flow": null,
            "grid_area": null,
            "grid_template_columns": null,
            "flex": null,
            "_model_name": "LayoutModel",
            "justify_items": null,
            "grid_row": null,
            "max_height": null,
            "align_content": null,
            "visibility": null,
            "align_self": null,
            "height": null,
            "min_height": null,
            "padding": null,
            "grid_auto_rows": null,
            "grid_gap": null,
            "max_width": null,
            "order": null,
            "_view_module_version": "1.2.0",
            "grid_template_areas": null,
            "object_position": null,
            "object_fit": null,
            "grid_auto_columns": null,
            "margin": null,
            "display": null,
            "left": null
          }
        }
      }
    }
  },
  "cells": [
    {
      "cell_type": "markdown",
      "metadata": {
        "id": "view-in-github",
        "colab_type": "text"
      },
      "source": [
        "<a href=\"https://colab.research.google.com/github/srinivasanibmbangalore/Deep-Learning2/blob/Version-1/MultiClass_Neural_Network.ipynb\" target=\"_parent\"><img src=\"https://colab.research.google.com/assets/colab-badge.svg\" alt=\"Open In Colab\"/></a>"
      ]
    },
    {
      "cell_type": "code",
      "metadata": {
        "id": "h415zBFzGPY1",
        "colab_type": "code",
        "colab": {}
      },
      "source": [
        "import numpy as np\n",
        "import matplotlib.pyplot as plt\n",
        "import pandas as pd\n",
        "import matplotlib.colors\n",
        "from sklearn.model_selection import train_test_split\n",
        "from sklearn.metrics import accuracy_score, mean_squared_error\n",
        "from tqdm import tqdm_notebook\n",
        "\n",
        "# new libraries\n",
        "from sklearn.preprocessing import OneHotEncoder\n",
        "from sklearn.datasets import make_blobs\n",
        "from sklearn.datasets import make_moons, make_circles"
      ],
      "execution_count": 0,
      "outputs": []
    },
    {
      "cell_type": "code",
      "metadata": {
        "id": "wIpQ0JaKGTte",
        "colab_type": "code",
        "colab": {}
      },
      "source": [
        "class MultiClass_FullNN:\n",
        "\n",
        "    def __init__(self, n_inputs, n_outputs,hidden_sizes = [2]):\n",
        "\n",
        "        np.random.seed(0)\n",
        "        self.nx = n_inputs # Number of features in the dataset\n",
        "        self.ny = n_outputs # Number of class labels\n",
        "        self.nh = len(hidden_sizes) #Number of hidden layers\n",
        "\n",
        "        #Build a list with number of neurons in each layer starting from input layer to output layer: e.g [8,5,4,4,3]-> 8 Neurons in i/p, 3 hidden layer with 5,4,4 neurons in hidden layer and 3 neurons in output layer\n",
        "        self.sizes = [self.nx] + hidden_sizes + [self.ny]\n",
        "\n",
        "        \n",
        "        print(\"nx=\"+str(self.nx))\n",
        "        print(\"ny=\"+str(self.ny))\n",
        "        print(\"nh=\"+str(self.nh))\n",
        "        print(self.sizes)\n",
        "        self.initialize_weights_bias()\n",
        "    def initialize_weights_bias(self):\n",
        "\n",
        "        self.W={}\n",
        "        self.B={}\n",
        "        for i in range(self.nh+1):\n",
        "            ####Note: Number of Rows->Number of nodes bottom layer and columns = number of nodes in the current hidden layers\n",
        "            print(i)\n",
        "            self.W[i+1] = np.random.randn(self.sizes[i], self.sizes[i+1])\n",
        "            print(self.W[i+1])\n",
        "\n",
        "             ####Note: Number of Rows=1 and  columns = number of nodes in the current hidden layers\n",
        "            self.B[i+1]= np.zeros((1,self.sizes[i+1]))\n",
        "        \n",
        "    def sigmoid(self, x):\n",
        "         return 1.0/(1.0 + np.exp(-x))\n",
        "  \n",
        "    def softmax(self, x):\n",
        "         exps = np.exp(x)\n",
        "         return exps / np.sum(exps)\n",
        "    \n",
        "\n",
        "    def forward_pass(self, x):\n",
        "      self.A = {}\n",
        "      self.H = {}\n",
        "      self.H[0] = x.reshape(1, -1) ## Reshaped to one row and as many column\n",
        "      for i in range(self.nh):\n",
        "        self.A[i+1] = np.matmul(self.H[i], self.W[i+1]) + self.B[i+1]  #Note it is not a dot product. Rather it is a matrix multiplication\n",
        "        self.H[i+1] = self.sigmoid(self.A[i+1])\n",
        "      self.A[self.nh+1] = np.matmul(self.H[self.nh], self.W[self.nh+1]) + self.B[self.nh+1]\n",
        "      self.H[self.nh+1] = self.softmax(self.A[self.nh+1])\n",
        "      return self.H[self.nh+1]\n",
        "    \n",
        "    def cross_entropy(self,label,pred):\n",
        "        yl=np.multiply(pred,label)\n",
        "        yl=yl[yl!=0]\n",
        "        yl=-np.log(yl)\n",
        "        yl=np.mean(yl)\n",
        "        return yl\n",
        "    \n",
        "    def grad_sigmoid(self,x):\n",
        "        return x*(1-x)\n",
        " \n",
        "    def grad(self, x, y):\n",
        "        self.forward_pass(x)\n",
        "        self.dW = {}\n",
        "        self.dB = {}\n",
        "        self.dH = {}\n",
        "        self.dA = {}\n",
        "        L = self.nh + 1\n",
        "\n",
        "        self.dA[L] = (self.H[L] - y)\n",
        "        for k in range(L, 0, -1):\n",
        "            self.dW[k] = np.matmul(self.H[k-1].T, self.dA[k])\n",
        "            self.dB[k] = self.dA[k]\n",
        "            self.dH[k-1] = np.matmul(self.dA[k], self.W[k].T)\n",
        "            self.dA[k-1] = np.multiply(self.dH[k-1], self.grad_sigmoid(self.H[k-1])) \n",
        "    \n",
        "    def predict(self,X):\n",
        "\n",
        "        Y_pred=[]\n",
        "        for x in X:\n",
        "            y_pred=self.forward_pass(x)\n",
        "            Y_pred.append(y_pred)\n",
        "        return np.array(Y_pred).squeeze()\n",
        "    \n",
        "    def fit(self, X, Y, epochs=100, initialize='True', learning_rate=0.01, display_loss=False):\n",
        "      \n",
        "        if display_loss:\n",
        "            loss = {}\n",
        "      \n",
        "        if initialize:\n",
        "            for i in range(self.nh+1):\n",
        "                self.W[i+1] = np.random.randn(self.sizes[i], self.sizes[i+1])\n",
        "                self.B[i+1] = np.zeros((1, self.sizes[i+1]))\n",
        "        \n",
        "        for epoch in tqdm_notebook(range(epochs), total=epochs, unit=\"epoch\"):\n",
        "            dW = {}\n",
        "            dB = {}\n",
        "            for i in range(self.nh+1):\n",
        "                dW[i+1] = np.zeros((self.sizes[i], self.sizes[i+1]))\n",
        "                dB[i+1] = np.zeros((1, self.sizes[i+1]))\n",
        "            for x, y in zip(X, Y):\n",
        "                self.grad(x, y)\n",
        "                for i in range(self.nh+1):\n",
        "                    dW[i+1] += self.dW[i+1]\n",
        "                    dB[i+1] += self.dB[i+1]\n",
        "                  \n",
        "            m = X.shape[1]\n",
        "            for i in range(self.nh+1):\n",
        "              self.W[i+1] -= learning_rate * (dW[i+1]/m)\n",
        "              self.B[i+1] -= learning_rate * (dB[i+1]/m)\n",
        "        \n",
        "            if display_loss:\n",
        "                Y_pred = self.predict(X) \n",
        "                loss[epoch] = self.cross_entropy(Y, Y_pred)\n",
        "                #print(\"loss is \" + str(loss[epoch]))\n",
        "        epoch_list=[]\n",
        "        loss_list=[]\n",
        "        for d in range(epochs):\n",
        "          epoch_list.append(d)\n",
        "          loss_list.append(loss[d])\n",
        "            \n",
        "        #print(type(loss.values()))\n",
        "        if display_loss:\n",
        "           plt.plot(epoch_list,loss_list)\n",
        "           plt.xlabel('Epochs')\n",
        "           plt.ylabel('CE')\n",
        "           plt.show()\n"
      ],
      "execution_count": 0,
      "outputs": []
    },
    {
      "cell_type": "code",
      "metadata": {
        "id": "hSoZ889famYu",
        "colab_type": "code",
        "colab": {}
      },
      "source": [
        "my_cmap = matplotlib.colors.LinearSegmentedColormap.from_list(\"\", [\"red\", \"yellow\", \"green\"])"
      ],
      "execution_count": 0,
      "outputs": []
    },
    {
      "cell_type": "code",
      "metadata": {
        "id": "4WO1HycRZYtn",
        "colab_type": "code",
        "colab": {
          "base_uri": "https://localhost:8080/",
          "height": 282
        },
        "outputId": "8a6d1c74-a8eb-49ff-9941-7bc1347602de"
      },
      "source": [
        "data, labels = make_blobs(n_samples=1000, centers=4, n_features=2, random_state=0)\n",
        "print(data.shape, labels.shape)\n",
        "\n",
        "\n",
        "plt.scatter(data[:,0], data[:,1], c = labels, cmap = my_cmap)\n",
        "plt.show()"
      ],
      "execution_count": 23,
      "outputs": [
        {
          "output_type": "stream",
          "text": [
            "(1000, 2) (1000,)\n"
          ],
          "name": "stdout"
        },
        {
          "output_type": "display_data",
          "data": {
            "image/png": "[encoded data removed]",
            "text/plain": [
              "<Figure size 432x288 with 1 Axes>"
            ]
          },
          "metadata": {
            "tags": [],
            "needs_background": "light"
          }
        }
      ]
    },
    {
      "cell_type": "code",
      "metadata": {
        "id": "FTgG7wK3bXhL",
        "colab_type": "code",
        "colab": {
          "base_uri": "https://localhost:8080/",
          "height": 34
        },
        "outputId": "7ce6d77b-f5aa-4d07-b825-c1ab592bb99e"
      },
      "source": [
        "X_train, X_val, Y_train, Y_val = train_test_split(data, labels, stratify = labels, random_state = 0)\n",
        "print(X_train.shape, X_val.shape)"
      ],
      "execution_count": 34,
      "outputs": [
        {
          "output_type": "stream",
          "text": [
            "(750, 2) (250, 2)\n"
          ],
          "name": "stdout"
        }
      ]
    },
    {
      "cell_type": "code",
      "metadata": {
        "id": "mVS3oIpmzmw1",
        "colab_type": "code",
        "colab": {
          "base_uri": "https://localhost:8080/",
          "height": 51
        },
        "outputId": "329444f4-0ff5-4ad6-c813-caeca550534b"
      },
      "source": [
        "\n",
        "enc=OneHotEncoder() #from scikit library. Can do for both numerical and categorical\n",
        "# 0->[1,0,0,0] 1->[0,1,0,0] 2->[0,0,1,0] 3->[0,0,0,1]\n",
        "y_OH_train=enc.fit_transform(np.expand_dims(Y_train,1)).toarray()  # The number of elements is the number of unique elements in the set\n",
        "y_OH_val=enc.fit_transform(np.expand_dims(Y_val,1)).toarray()\n",
        "print(y_OH_train.shape,y_OH_val.shape)\n",
        "print(y_OH_train[0])"
      ],
      "execution_count": 35,
      "outputs": [
        {
          "output_type": "stream",
          "text": [
            "(750, 4) (250, 4)\n",
            "[1. 0. 0. 0.]\n"
          ],
          "name": "stdout"
        }
      ]
    },
    {
      "cell_type": "code",
      "metadata": {
        "id": "DGiGVKyOcNU5",
        "colab_type": "code",
        "colab": {
          "base_uri": "https://localhost:8080/",
          "height": 872,
          "referenced_widgets": [
            "4028996e33344455910861c6c8b6a67a",
            "0df15a81e7594c2ba53539431840c71a",
            "3a66a29b939c4e32863b7d27a2a98d7c",
            "809aa27c77f54dc79948829b8206b8d1",
            "f110deb0fb004283a0e2a44dcbf6a813",
            "ba18b240064643f4862f61cf462db059",
            "cd4ed25f1e11467aade7d642e94e87e5",
            "762c784b5cba4b6eaab4d0d27cff6652"
          ]
        },
        "outputId": "4b2fca9e-a39d-4314-faea-abcfa70ce2c5"
      },
      "source": [
        "ffnw1 = MultiClass_FullNN(X_train.shape[1],4,[7,5,6])\n",
        "ffnw1.fit(X_train, y_OH_train, epochs = 1500, learning_rate = 0.001, display_loss = True)"
      ],
      "execution_count": 56,
      "outputs": [
        {
          "output_type": "stream",
          "text": [
            "nx=2\n",
            "ny=4\n",
            "nh=3\n",
            "[2, 7, 5, 6, 4]\n",
            "0\n",
            "[[ 1.76405235  0.40015721  0.97873798  2.2408932   1.86755799 -0.97727788\n",
            "   0.95008842]\n",
            " [-0.15135721 -0.10321885  0.4105985   0.14404357  1.45427351  0.76103773\n",
            "   0.12167502]]\n",
            "1\n",
            "[[ 0.44386323  0.33367433  1.49407907 -0.20515826  0.3130677 ]\n",
            " [-0.85409574 -2.55298982  0.6536186   0.8644362  -0.74216502]\n",
            " [ 2.26975462 -1.45436567  0.04575852 -0.18718385  1.53277921]\n",
            " [ 1.46935877  0.15494743  0.37816252 -0.88778575 -1.98079647]\n",
            " [-0.34791215  0.15634897  1.23029068  1.20237985 -0.38732682]\n",
            " [-0.30230275 -1.04855297 -1.42001794 -1.70627019  1.9507754 ]\n",
            " [-0.50965218 -0.4380743  -1.25279536  0.77749036 -1.61389785]]\n",
            "2\n",
            "[[-0.21274028 -0.89546656  0.3869025  -0.51080514 -1.18063218 -0.02818223]\n",
            " [ 0.42833187  0.06651722  0.3024719  -0.63432209 -0.36274117 -0.67246045]\n",
            " [-0.35955316 -0.81314628 -1.7262826   0.17742614 -0.40178094 -1.63019835]\n",
            " [ 0.46278226 -0.90729836  0.0519454   0.72909056  0.12898291  1.13940068]\n",
            " [-1.23482582  0.40234164 -0.68481009 -0.87079715 -0.57884966 -0.31155253]]\n",
            "3\n",
            "[[ 0.05616534 -1.16514984  0.90082649  0.46566244]\n",
            " [-1.53624369  1.48825219  1.89588918  1.17877957]\n",
            " [-0.17992484 -1.07075262  1.05445173 -0.40317695]\n",
            " [ 1.22244507  0.20827498  0.97663904  0.3563664 ]\n",
            " [ 0.70657317  0.01050002  1.78587049  0.12691209]\n",
            " [ 0.40198936  1.8831507  -1.34775906 -1.270485  ]]\n"
          ],
          "name": "stdout"
        },
        {
          "output_type": "stream",
          "text": [
            "/usr/local/lib/python3.6/dist-packages/ipykernel_launcher.py:94: TqdmDeprecationWarning: This function will be removed in tqdm==5.0.0\n",
            "Please use `tqdm.notebook.tqdm` instead of `tqdm.tqdm_notebook`\n"
          ],
          "name": "stderr"
        },
        {
          "output_type": "display_data",
          "data": {
            "application/vnd.jupyter.widget-view+json": {
              "model_id": "4028996e33344455910861c6c8b6a67a",
              "version_minor": 0,
              "version_major": 2
            },
            "text/plain": [
              "HBox(children=(FloatProgress(value=0.0, max=1500.0), HTML(value='')))"
            ]
          },
          "metadata": {
            "tags": []
          }
        },
        {
          "output_type": "stream",
          "text": [
            "\n"
          ],
          "name": "stdout"
        },
        {
          "output_type": "display_data",
          "data": {
            "image/png": "[encoded data removed]",
            "text/plain": [
              "<Figure size 432x288 with 1 Axes>"
            ]
          },
          "metadata": {
            "tags": [],
            "needs_background": "light"
          }
        }
      ]
    },
    {
      "cell_type": "code",
      "metadata": {
        "id": "4UCFO0s8VKR8",
        "colab_type": "code",
        "colab": {
          "base_uri": "https://localhost:8080/",
          "height": 51
        },
        "outputId": "d56b999a-e57c-420d-a4fa-2af79c32fa2f"
      },
      "source": [
        "\n",
        "Y_pred_train = ffnw1.predict(X_train)\n",
        "Y_pred_train = np.argmax(Y_pred_train, 1)\n",
        "\n",
        "Y_pred_val = ffnw1.predict(X_val)\n",
        "Y_pred_val = np.argmax(Y_pred_val, 1)\n",
        "\n",
        "accuracy_train = accuracy_score(Y_pred_train, Y_train)\n",
        "accuracy_val = accuracy_score(Y_pred_val, Y_val)\n",
        "\n",
        "print(\"Training accuracy\", round(accuracy_train, 2))\n",
        "print(\"Validation accuracy\", round(accuracy_val, 2))"
      ],
      "execution_count": 57,
      "outputs": [
        {
          "output_type": "stream",
          "text": [
            "Training accuracy 0.93\n",
            "Validation accuracy 0.94\n"
          ],
          "name": "stdout"
        }
      ]
    },
    {
      "cell_type": "code",
      "metadata": {
        "id": "MQY2nHU2VgMr",
        "colab_type": "code",
        "colab": {
          "base_uri": "https://localhost:8080/",
          "height": 265
        },
        "outputId": "93b96368-e730-4ebb-fb3e-04214b532e4b"
      },
      "source": [
        "plt.scatter(X_train[:,0], X_train[:,1], c=Y_pred_train, cmap=my_cmap, s=15*(np.abs(np.sign(Y_pred_train-Y_train))+.1))\n",
        "plt.show()\n",
        "## The thicker ones are the ones which are erroneously classified.\n",
        "## It is noted that they are all near the border areas (intersection point of the classes)"
      ],
      "execution_count": 59,
      "outputs": [
        {
          "output_type": "display_data",
          "data": {
            "image/png": "[encoded data removed]",
            "text/plain": [
              "<Figure size 432x288 with 1 Axes>"
            ]
          },
          "metadata": {
            "tags": [],
            "needs_background": "light"
          }
        }
      ]
    },
    {
      "cell_type": "code",
      "metadata": {
        "id": "MKwJvkLkEzVb",
        "colab_type": "code",
        "colab": {}
      },
      "source": [
        ""
      ],
      "execution_count": 0,
      "outputs": []
    }
  ]
}