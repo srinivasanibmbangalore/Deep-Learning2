{
  "nbformat": 4,
  "nbformat_minor": 0,
  "metadata": {
    "colab": {
      "name": "Perceptron_March26.ipynb",
      "provenance": [],
      "collapsed_sections": [],
      "authorship_tag": "ABX9TyM+0zdSmhzGnWllEd1FT88g",
      "include_colab_link": true
    },
    "kernelspec": {
      "name": "python3",
      "display_name": "Python 3"
    }
  },
  "cells": [
    {
      "cell_type": "markdown",
      "metadata": {
        "id": "view-in-github",
        "colab_type": "text"
      },
      "source": [
        "<a href=\"https://colab.research.google.com/github/srinivasanibmbangalore/Deep-Learning2/blob/Version-1/Perceptron_March26.ipynb\" target=\"_parent\"><img src=\"https://colab.research.google.com/assets/colab-badge.svg\" alt=\"Open In Colab\"/></a>"
      ]
    },
    {
      "cell_type": "markdown",
      "metadata": {
        "id": "OKnEv0fjZAyY",
        "colab_type": "text"
      },
      "source": [
        "***Perceptron Model***: **Task** is a binary Classification\n",
        "Data :  Breast Cancer Data Set from Scikit learn library.\n",
        "**Algorithm (Model)** \n",
        "$y=1, \\mbox{if} \\sum_i w_i x_i >= b$\n",
        "\n",
        "$y=0, \\mbox{otherwise}\\$"
      ]
    },
    {
      "cell_type": "markdown",
      "metadata": {
        "id": "DQYR81KbanQF",
        "colab_type": "text"
      },
      "source": [
        "$w_i$ is the vector of weights\n",
        "\n",
        "The number of parameters for the learning algorithm to learn include n+1 where n is the number of features\n",
        "\n",
        "Unlike a MP Neuron based model, $x_i$ can be real valued\n",
        "\n",
        "Loss = 0 if y^=y otherwise 1\n",
        "\n",
        "The learning algorithm learns $w_i$ and b\n",
        "\n",
        "###Learning Algorithm\n",
        "P <-- Inputs with ground truth label =1\n",
        "\n",
        "N <-- Inputs with ground Truth label = 0\n",
        "\n",
        "\n",
        "Initialize $w$ randomly\n",
        "\n",
        "while !convergence do \n",
        "\n",
        "    pick a random x in (P U N):\n",
        "\n",
        "        if x in (P) and $\\sum_i wi xi $ <0 then \n",
        "\n",
        "            w = w+x\n",
        "\n",
        "        end\n",
        "\n",
        "        else if x in (N) and $\\sum_i wi xi$ > 0 then\n",
        "\n",
        "            w = w-x\n",
        "\n",
        "        end\n",
        "\n",
        "Algorithm converges when all inputs are classified correctly\n",
        "\n"
      ]
    },
    {
      "cell_type": "markdown",
      "metadata": {
        "id": "YP_ZI7zEMKrk",
        "colab_type": "text"
      },
      "source": [
        "### The Intution Behind the Learning Algorithm\n",
        "\n",
        "X=[x1,x2,x3,x4....] and W=[w1,w2,w3,w4...]\n",
        "\n",
        "Angle between X and W is given by cos($\\theta$) = (W.X)/(||W||.||X||)\n",
        "\n",
        "It needs to be noted that the denominator (||W||.||X||) is allways positive\n",
        "\n",
        "Hence angle between the vector is dependent on the sign of the dot products between the vectors\n",
        "\n",
        "\n",
        "cos($\\theta$) is Zero when $\\theta$ is 90 degree\n",
        "\n",
        "cos($\\theta$) is 1 when $\\theta$ is 0\n",
        "\n",
        "cos(($\\theta$) is <0 when $\\theta$ > 90 and <180\n",
        "\n",
        "It needs to noted from the learning algorithm that\n",
        "\n",
        "𝑦=1,if $\\sum w_i x_i $ 𝑖>=𝑏\n",
        "\n",
        "So if y is positive and $\\sum w_i x_i$ tends to be negative, then the intution is angle between the two vectors (x and w)  is negative and hence it has to be made tending towards acute. This can be achieved by increasing the weight vector w (i.e w = w+x)\n",
        "\n",
        "\n",
        "So if y is negative  and $\\sum w_i x_i$ tends to be positive, then the intution is angle between the two vectors (x and w)  is positive and hence it has to be made tending towards obtuse. This can be achieved by decreasing the weight vector w (i.e w = w-x)\n",
        "\n",
        "Checkpointing introduced to save the best value of b and Weights\n",
        "\n",
        "Learning Rates are used to control the rate of movement."
      ]
    },
    {
      "cell_type": "code",
      "metadata": {
        "id": "b5eFEVlUn-1Z",
        "colab_type": "code",
        "colab": {}
      },
      "source": [
        "import numpy as np\n",
        "import sklearn.datasets as ds #Very popular dataset\n",
        "import pandas as pd\n",
        "import matplotlib.pyplot as plt\n",
        "import random as rn\n",
        "from sklearn.metrics import accuracy_score\n",
        "from sklearn.model_selection import train_test_split"
      ],
      "execution_count": 0,
      "outputs": []
    },
    {
      "cell_type": "code",
      "metadata": {
        "id": "a4p4EH28aa87",
        "colab_type": "code",
        "colab": {}
      },
      "source": [
        "class Perceptron:\n",
        "\n",
        "    def __init__(self):\n",
        "        self.w = None # The weight vector which is an array\n",
        "        self.b = None # The bias b is a scalar\n",
        "\n",
        "\n",
        "    def model(self,x):\n",
        "        result = 0\n",
        "        type(x)\n",
        "        return 1 if (np.dot (self.w,x) >= self.b ) else 0\n",
        "        if (np.dot(self.w,x) >= self.b):\n",
        "            result=1\n",
        "        return result\n",
        "\n",
        "    def predict(self, X):\n",
        "        Y=[]\n",
        "        for x in X:\n",
        "            result=self.model(x)\n",
        "            Y.append(result)\n",
        "        return np.array(Y)\n",
        "    \n",
        "    # Unlike MP Neuron, value of b can be real value . In MP Neuron, value of b ranged from 1 to (Number of features+1)\n",
        "    # Brute Force finding values of 'b' is not possible\n",
        "    # Weight Vector has to be computed. \n",
        "    # This is on the training data.\n",
        "    # The below is the learning algorithm\n",
        "\n",
        "    def fit(self,X,Y,epochs=1,lr=1):\n",
        "        self.w = np.ones(X.shape[1]) # Initialized to aThe number of columns in Training Data \n",
        "        self.b = 0\n",
        " \n",
        "        accuracy=[]\n",
        "        max_accuracy=0\n",
        "        best_epoch=0\n",
        "        for i in range(epochs):\n",
        "            for x, y in zip(X,Y):\n",
        "                y_pred=self.model(x)\n",
        "                if (y == 1 and y_pred == 0):\n",
        "                    self.w = self.w+lr*x\n",
        "                    self.b = self.b+lr*1\n",
        "                elif (y == 0 and y_pred ==1):\n",
        "                    self.w = self.w-lr*x\n",
        "                    self.b = self.b -lr*1\n",
        "            acc_score=accuracy_score(self.predict(X),Y)\n",
        "            accuracy.append(acc_score)\n",
        "            if ( acc_score > max_accuracy):\n",
        "              max_accuracy=acc_score\n",
        "              best_epoch=i\n",
        "              chkpntw=self.w\n",
        "              chkpntb=self.b\n",
        "        \n",
        "        self.w=chkpntw # W value at the highest value of accuracy score\n",
        "        self.b=chkpntb # b value at the highest value of accuracy score\n",
        "        print(accuracy)\n",
        "        print(max_accuracy)\n",
        "        print(best_epoch)\n",
        "        plt.plot(accuracy)\n",
        "        plt.ylim(0,1)\n",
        "        plt.show()"
      ],
      "execution_count": 0,
      "outputs": []
    },
    {
      "cell_type": "code",
      "metadata": {
        "id": "XNfrMUGs4y0-",
        "colab_type": "code",
        "colab": {
          "base_uri": "https://localhost:8080/",
          "height": 258
        },
        "outputId": "9bfa0237-e8f7-473e-d487-41414f56b694"
      },
      "source": [
        "bc=ds.load_breast_cancer()\n",
        "X=bc.data\n",
        "Y=bc.target\n",
        "type(X)\n",
        "data=pd.DataFrame(bc.data,columns=bc.feature_names)\n",
        "data.describe()\n",
        "data.head()\n",
        "\n"
      ],
      "execution_count": 11,
      "outputs": [
        {
          "output_type": "execute_result",
          "data": {
            "text/html": [
              "<div>\n",
              "<style scoped>\n",
              "    .dataframe tbody tr th:only-of-type {\n",
              "        vertical-align: middle;\n",
              "    }\n",
              "\n",
              "    .dataframe tbody tr th {\n",
              "        vertical-align: top;\n",
              "    }\n",
              "\n",
              "    .dataframe thead th {\n",
              "        text-align: right;\n",
              "    }\n",
              "</style>\n",
              "<table border=\"1\" class=\"dataframe\">\n",
              "  <thead>\n",
              "    <tr style=\"text-align: right;\">\n",
              "      <th></th>\n",
              "      <th>mean radius</th>\n",
              "      <th>mean texture</th>\n",
              "      <th>mean perimeter</th>\n",
              "      <th>mean area</th>\n",
              "      <th>mean smoothness</th>\n",
              "      <th>mean compactness</th>\n",
              "      <th>mean concavity</th>\n",
              "      <th>mean concave points</th>\n",
              "      <th>mean symmetry</th>\n",
              "      <th>mean fractal dimension</th>\n",
              "      <th>radius error</th>\n",
              "      <th>texture error</th>\n",
              "      <th>perimeter error</th>\n",
              "      <th>area error</th>\n",
              "      <th>smoothness error</th>\n",
              "      <th>compactness error</th>\n",
              "      <th>concavity error</th>\n",
              "      <th>concave points error</th>\n",
              "      <th>symmetry error</th>\n",
              "      <th>fractal dimension error</th>\n",
              "      <th>worst radius</th>\n",
              "      <th>worst texture</th>\n",
              "      <th>worst perimeter</th>\n",
              "      <th>worst area</th>\n",
              "      <th>worst smoothness</th>\n",
              "      <th>worst compactness</th>\n",
              "      <th>worst concavity</th>\n",
              "      <th>worst concave points</th>\n",
              "      <th>worst symmetry</th>\n",
              "      <th>worst fractal dimension</th>\n",
              "    </tr>\n",
              "  </thead>\n",
              "  <tbody>\n",
              "    <tr>\n",
              "      <th>0</th>\n",
              "      <td>17.99</td>\n",
              "      <td>10.38</td>\n",
              "      <td>122.80</td>\n",
              "      <td>1001.0</td>\n",
              "      <td>0.11840</td>\n",
              "      <td>0.27760</td>\n",
              "      <td>0.3001</td>\n",
              "      <td>0.14710</td>\n",
              "      <td>0.2419</td>\n",
              "      <td>0.07871</td>\n",
              "      <td>1.0950</td>\n",
              "      <td>0.9053</td>\n",
              "      <td>8.589</td>\n",
              "      <td>153.40</td>\n",
              "      <td>0.006399</td>\n",
              "      <td>0.04904</td>\n",
              "      <td>0.05373</td>\n",
              "      <td>0.01587</td>\n",
              "      <td>0.03003</td>\n",
              "      <td>0.006193</td>\n",
              "      <td>25.38</td>\n",
              "      <td>17.33</td>\n",
              "      <td>184.60</td>\n",
              "      <td>2019.0</td>\n",
              "      <td>0.1622</td>\n",
              "      <td>0.6656</td>\n",
              "      <td>0.7119</td>\n",
              "      <td>0.2654</td>\n",
              "      <td>0.4601</td>\n",
              "      <td>0.11890</td>\n",
              "    </tr>\n",
              "    <tr>\n",
              "      <th>1</th>\n",
              "      <td>20.57</td>\n",
              "      <td>17.77</td>\n",
              "      <td>132.90</td>\n",
              "      <td>1326.0</td>\n",
              "      <td>0.08474</td>\n",
              "      <td>0.07864</td>\n",
              "      <td>0.0869</td>\n",
              "      <td>0.07017</td>\n",
              "      <td>0.1812</td>\n",
              "      <td>0.05667</td>\n",
              "      <td>0.5435</td>\n",
              "      <td>0.7339</td>\n",
              "      <td>3.398</td>\n",
              "      <td>74.08</td>\n",
              "      <td>0.005225</td>\n",
              "      <td>0.01308</td>\n",
              "      <td>0.01860</td>\n",
              "      <td>0.01340</td>\n",
              "      <td>0.01389</td>\n",
              "      <td>0.003532</td>\n",
              "      <td>24.99</td>\n",
              "      <td>23.41</td>\n",
              "      <td>158.80</td>\n",
              "      <td>1956.0</td>\n",
              "      <td>0.1238</td>\n",
              "      <td>0.1866</td>\n",
              "      <td>0.2416</td>\n",
              "      <td>0.1860</td>\n",
              "      <td>0.2750</td>\n",
              "      <td>0.08902</td>\n",
              "    </tr>\n",
              "    <tr>\n",
              "      <th>2</th>\n",
              "      <td>19.69</td>\n",
              "      <td>21.25</td>\n",
              "      <td>130.00</td>\n",
              "      <td>1203.0</td>\n",
              "      <td>0.10960</td>\n",
              "      <td>0.15990</td>\n",
              "      <td>0.1974</td>\n",
              "      <td>0.12790</td>\n",
              "      <td>0.2069</td>\n",
              "      <td>0.05999</td>\n",
              "      <td>0.7456</td>\n",
              "      <td>0.7869</td>\n",
              "      <td>4.585</td>\n",
              "      <td>94.03</td>\n",
              "      <td>0.006150</td>\n",
              "      <td>0.04006</td>\n",
              "      <td>0.03832</td>\n",
              "      <td>0.02058</td>\n",
              "      <td>0.02250</td>\n",
              "      <td>0.004571</td>\n",
              "      <td>23.57</td>\n",
              "      <td>25.53</td>\n",
              "      <td>152.50</td>\n",
              "      <td>1709.0</td>\n",
              "      <td>0.1444</td>\n",
              "      <td>0.4245</td>\n",
              "      <td>0.4504</td>\n",
              "      <td>0.2430</td>\n",
              "      <td>0.3613</td>\n",
              "      <td>0.08758</td>\n",
              "    </tr>\n",
              "    <tr>\n",
              "      <th>3</th>\n",
              "      <td>11.42</td>\n",
              "      <td>20.38</td>\n",
              "      <td>77.58</td>\n",
              "      <td>386.1</td>\n",
              "      <td>0.14250</td>\n",
              "      <td>0.28390</td>\n",
              "      <td>0.2414</td>\n",
              "      <td>0.10520</td>\n",
              "      <td>0.2597</td>\n",
              "      <td>0.09744</td>\n",
              "      <td>0.4956</td>\n",
              "      <td>1.1560</td>\n",
              "      <td>3.445</td>\n",
              "      <td>27.23</td>\n",
              "      <td>0.009110</td>\n",
              "      <td>0.07458</td>\n",
              "      <td>0.05661</td>\n",
              "      <td>0.01867</td>\n",
              "      <td>0.05963</td>\n",
              "      <td>0.009208</td>\n",
              "      <td>14.91</td>\n",
              "      <td>26.50</td>\n",
              "      <td>98.87</td>\n",
              "      <td>567.7</td>\n",
              "      <td>0.2098</td>\n",
              "      <td>0.8663</td>\n",
              "      <td>0.6869</td>\n",
              "      <td>0.2575</td>\n",
              "      <td>0.6638</td>\n",
              "      <td>0.17300</td>\n",
              "    </tr>\n",
              "    <tr>\n",
              "      <th>4</th>\n",
              "      <td>20.29</td>\n",
              "      <td>14.34</td>\n",
              "      <td>135.10</td>\n",
              "      <td>1297.0</td>\n",
              "      <td>0.10030</td>\n",
              "      <td>0.13280</td>\n",
              "      <td>0.1980</td>\n",
              "      <td>0.10430</td>\n",
              "      <td>0.1809</td>\n",
              "      <td>0.05883</td>\n",
              "      <td>0.7572</td>\n",
              "      <td>0.7813</td>\n",
              "      <td>5.438</td>\n",
              "      <td>94.44</td>\n",
              "      <td>0.011490</td>\n",
              "      <td>0.02461</td>\n",
              "      <td>0.05688</td>\n",
              "      <td>0.01885</td>\n",
              "      <td>0.01756</td>\n",
              "      <td>0.005115</td>\n",
              "      <td>22.54</td>\n",
              "      <td>16.67</td>\n",
              "      <td>152.20</td>\n",
              "      <td>1575.0</td>\n",
              "      <td>0.1374</td>\n",
              "      <td>0.2050</td>\n",
              "      <td>0.4000</td>\n",
              "      <td>0.1625</td>\n",
              "      <td>0.2364</td>\n",
              "      <td>0.07678</td>\n",
              "    </tr>\n",
              "  </tbody>\n",
              "</table>\n",
              "</div>"
            ],
            "text/plain": [
              "   mean radius  mean texture  ...  worst symmetry  worst fractal dimension\n",
              "0        17.99         10.38  ...          0.4601                  0.11890\n",
              "1        20.57         17.77  ...          0.2750                  0.08902\n",
              "2        19.69         21.25  ...          0.3613                  0.08758\n",
              "3        11.42         20.38  ...          0.6638                  0.17300\n",
              "4        20.29         14.34  ...          0.2364                  0.07678\n",
              "\n",
              "[5 rows x 30 columns]"
            ]
          },
          "metadata": {
            "tags": []
          },
          "execution_count": 11
        }
      ]
    },
    {
      "cell_type": "code",
      "metadata": {
        "id": "6DEXqSkW5b5m",
        "colab_type": "code",
        "colab": {
          "base_uri": "https://localhost:8080/",
          "height": 187
        },
        "outputId": "f977088f-1bc5-4a9d-ef3c-e5483dc4895b"
      },
      "source": [
        "print(data.columns)"
      ],
      "execution_count": 12,
      "outputs": [
        {
          "output_type": "stream",
          "text": [
            "Index(['mean radius', 'mean texture', 'mean perimeter', 'mean area',\n",
            "       'mean smoothness', 'mean compactness', 'mean concavity',\n",
            "       'mean concave points', 'mean symmetry', 'mean fractal dimension',\n",
            "       'radius error', 'texture error', 'perimeter error', 'area error',\n",
            "       'smoothness error', 'compactness error', 'concavity error',\n",
            "       'concave points error', 'symmetry error', 'fractal dimension error',\n",
            "       'worst radius', 'worst texture', 'worst perimeter', 'worst area',\n",
            "       'worst smoothness', 'worst compactness', 'worst concavity',\n",
            "       'worst concave points', 'worst symmetry', 'worst fractal dimension'],\n",
            "      dtype='object')\n"
          ],
          "name": "stdout"
        }
      ]
    },
    {
      "cell_type": "code",
      "metadata": {
        "id": "Ko3bXsVg6Z0h",
        "colab_type": "code",
        "colab": {}
      },
      "source": [
        "data['class']=bc.target\n",
        "X=data.drop('class', axis=1) # The class label is dropped and stored in a separate array\n",
        "Y=data['class'] # The class label array is stored separately\n"
      ],
      "execution_count": 0,
      "outputs": []
    },
    {
      "cell_type": "markdown",
      "metadata": {
        "id": "h3HOFPdA9yrO",
        "colab_type": "text"
      },
      "source": [
        "Split the data into test and train"
      ]
    },
    {
      "cell_type": "code",
      "metadata": {
        "id": "jOgzBamO9x2V",
        "colab_type": "code",
        "colab": {}
      },
      "source": [
        "X_train,X_test,Y_train,Y_test = train_test_split(X,Y,test_size=0.1,stratify=Y,random_state=1)"
      ],
      "execution_count": 0,
      "outputs": []
    },
    {
      "cell_type": "markdown",
      "metadata": {
        "id": "5ik_J9Tp-Kdo",
        "colab_type": "text"
      },
      "source": [
        "Instantiate the Perceptron and fit the model"
      ]
    },
    {
      "cell_type": "code",
      "metadata": {
        "id": "3929Ps48-JmA",
        "colab_type": "code",
        "colab": {
          "base_uri": "https://localhost:8080/",
          "height": 588
        },
        "outputId": "fe411bbd-45bd-47dc-f3c8-0459b4e6ab26"
      },
      "source": [
        "perceptron = Perceptron()\n",
        "perceptron.fit(X_train.values, Y_train,50,0.0001)\n",
        "plt.plot(perceptron.w)\n",
        "plt.show()"
      ],
      "execution_count": 93,
      "outputs": [
        {
          "output_type": "stream",
          "text": [
            "[0.884765625, 0.884765625, 0.904296875, 0.8984375, 0.888671875, 0.90625, 0.8828125, 0.900390625, 0.900390625, 0.904296875, 0.90625, 0.90625, 0.904296875, 0.908203125, 0.90625, 0.904296875, 0.90625, 0.90625, 0.904296875, 0.908203125, 0.9140625, 0.9140625, 0.90625, 0.904296875, 0.90625, 0.916015625, 0.91015625, 0.91015625, 0.908203125, 0.91015625, 0.91015625, 0.912109375, 0.912109375, 0.91015625, 0.91015625, 0.916015625, 0.912109375, 0.916015625, 0.91015625, 0.890625, 0.912109375, 0.916015625, 0.9140625, 0.9140625, 0.912109375, 0.912109375, 0.91796875, 0.916015625, 0.9140625, 0.91015625]\n",
            "0.91796875\n",
            "46\n"
          ],
          "name": "stdout"
        },
        {
          "output_type": "display_data",
          "data": {
            "image/png": "[encoded data removed]",
            "text/plain": [
              "<Figure size 432x288 with 1 Axes>"
            ]
          },
          "metadata": {
            "tags": []
          }
        },
        {
          "output_type": "display_data",
          "data": {
            "image/png": "[encoded data removed]",
            "text/plain": [
              "<Figure size 432x288 with 1 Axes>"
            ]
          },
          "metadata": {
            "tags": []
          }
        }
      ]
    },
    {
      "cell_type": "markdown",
      "metadata": {
        "id": "nKS6P4UKErdU",
        "colab_type": "text"
      },
      "source": [
        "Prediction & Accuracy on Training Data"
      ]
    },
    {
      "cell_type": "code",
      "metadata": {
        "id": "9DEV7S5XExgF",
        "colab_type": "code",
        "colab": {
          "base_uri": "https://localhost:8080/",
          "height": 34
        },
        "outputId": "620419eb-be26-4229-c0fa-140491255e78"
      },
      "source": [
        "y_pred_train=perceptron.predict(X_train.values)\n",
        "print(accuracy_score(y_pred_train,Y_train))"
      ],
      "execution_count": 66,
      "outputs": [
        {
          "output_type": "stream",
          "text": [
            "0.86328125\n"
          ],
          "name": "stdout"
        }
      ]
    },
    {
      "cell_type": "markdown",
      "metadata": {
        "id": "IDZ9gtnoZNac",
        "colab_type": "text"
      },
      "source": [
        "Prediction & Accuracy on Test Data"
      ]
    },
    {
      "cell_type": "code",
      "metadata": {
        "id": "lDobWzt2ZMC3",
        "colab_type": "code",
        "colab": {
          "base_uri": "https://localhost:8080/",
          "height": 34
        },
        "outputId": "4b90f134-0482-4fe8-805e-f27424585b18"
      },
      "source": [
        "y_pred_test=perceptron.predict(X_test.values)\n",
        "print(accuracy_score(y_pred_test,Y_test))"
      ],
      "execution_count": 95,
      "outputs": [
        {
          "output_type": "stream",
          "text": [
            "0.9473684210526315\n"
          ],
          "name": "stdout"
        }
      ]
    },
    {
      "cell_type": "markdown",
      "metadata": {
        "id": "K2QFTyZIaC3C",
        "colab_type": "text"
      },
      "source": [
        "Plot the weights"
      ]
    },
    {
      "cell_type": "code",
      "metadata": {
        "id": "DaWaqsyGaBs4",
        "colab_type": "code",
        "colab": {
          "base_uri": "https://localhost:8080/",
          "height": 265
        },
        "outputId": "85f9112d-816e-47ee-fcf0-87f5cad57d2a"
      },
      "source": [
        "plt.plot(perceptron.w)\n",
        "plt.show()"
      ],
      "execution_count": 96,
      "outputs": [
        {
          "output_type": "display_data",
          "data": {
            "image/png": "[encoded data removed]",
            "text/plain": [
              "<Figure size 432x288 with 1 Axes>"
            ]
          },
          "metadata": {
            "tags": []
          }
        }
      ]
    }
  ]
}